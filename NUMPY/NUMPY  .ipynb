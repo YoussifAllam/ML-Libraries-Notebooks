{
 "cells": [
  {
   "cell_type": "code",
   "execution_count": 1,
   "metadata": {},
   "outputs": [],
   "source": [
    "import numpy as np\n"
   ]
  },
  {
   "cell_type": "code",
   "execution_count": 3,
   "metadata": {},
   "outputs": [
    {
     "name": "stdout",
     "output_type": "stream",
     "text": [
      "-0.9880316240928618 0.49999999999999994 0.49999999999999994 2.0000000000000004\n"
     ]
    }
   ],
   "source": [
    "a=np.sin(30)\n",
    "\n",
    "c=np.sin(30*np.pi/180) # degree\n",
    "#or\n",
    "b=np.sin(np.deg2rad(30)) \n",
    "\n",
    "d= 1 / np.sin(30*np.pi/180) # cosc\n",
    "\n",
    "\n",
    "print(a,b,c,d,sep=\" \")"
   ]
  },
  {
   "cell_type": "code",
   "execution_count": 5,
   "metadata": {},
   "outputs": [
    {
     "name": "stdout",
     "output_type": "stream",
     "text": [
      "4.0 , 3.7 , 3.69\n"
     ]
    }
   ],
   "source": [
    "a=np.round(3.6852) # هيقرب للاقرب رقم صحيح\n",
    "b=np.round(3.6852,1) #هيقرب للاقرب رقم عشري  \n",
    "c=np.round(3.6852,2)\n",
    "print(a,b,c,sep=\" , \")"
   ]
  },
  {
   "cell_type": "code",
   "execution_count": 7,
   "metadata": {},
   "outputs": [
    {
     "data": {
      "text/plain": [
       "4.484132003370901"
      ]
     },
     "execution_count": 7,
     "metadata": {},
     "output_type": "execute_result"
    }
   ],
   "source": [
    "a=np.random.uniform(1,10) \n",
    "a\n",
    "# one random number from1 to 10"
   ]
  },
  {
   "cell_type": "code",
   "execution_count": 8,
   "metadata": {},
   "outputs": [
    {
     "data": {
      "text/plain": [
       "array([7.4146395 , 7.20214408, 7.94059609, 9.94795255, 8.29590914])"
      ]
     },
     "execution_count": 8,
     "metadata": {},
     "output_type": "execute_result"
    }
   ],
   "source": [
    "b=np.random.uniform(1,10,5)\n",
    " # five random numbers from1 to 10\n",
    "b"
   ]
  },
  {
   "cell_type": "code",
   "execution_count": 9,
   "metadata": {},
   "outputs": [
    {
     "data": {
      "text/plain": [
       "array([4, 0, 4])"
      ]
     },
     "execution_count": 9,
     "metadata": {},
     "output_type": "execute_result"
    }
   ],
   "source": [
    "a=np.random.randint(5,size =3)\n",
    " # three random integer nambers between 0 and 5\n",
    "a"
   ]
  },
  {
   "cell_type": "code",
   "execution_count": 11,
   "metadata": {},
   "outputs": [
    {
     "data": {
      "text/plain": [
       "33"
      ]
     },
     "execution_count": 11,
     "metadata": {},
     "output_type": "execute_result"
    }
   ],
   "source": [
    "a=np.random.randint(50)\n",
    " # one random integer namber between 0 _ 50\n",
    "a"
   ]
  },
  {
   "cell_type": "code",
   "execution_count": 12,
   "metadata": {},
   "outputs": [
    {
     "data": {
      "text/plain": [
       "array([ 9, 13,  8])"
      ]
     },
     "execution_count": 12,
     "metadata": {},
     "output_type": "execute_result"
    }
   ],
   "source": [
    "a=np.random.randint(5,20,size=3) \n",
    "# three random integer namber between 5 _ 20\n",
    "a"
   ]
  },
  {
   "cell_type": "code",
   "execution_count": 19,
   "metadata": {},
   "outputs": [
    {
     "data": {
      "text/plain": [
       "2"
      ]
     },
     "execution_count": 19,
     "metadata": {},
     "output_type": "execute_result"
    }
   ],
   "source": [
    "y=[1,2,3,4,5,6,4,7,2,10]\n",
    "a=np.random.choice(y) \n",
    "# random number from list y\n",
    "a\n"
   ]
  },
  {
   "cell_type": "code",
   "execution_count": 21,
   "metadata": {},
   "outputs": [
    {
     "data": {
      "text/plain": [
       "[5, 7, 10, 6, 2, 4, 1, 3, 4, 2]"
      ]
     },
     "execution_count": 21,
     "metadata": {},
     "output_type": "execute_result"
    }
   ],
   "source": [
    "y=[1,2,3,4,5,6,4,7,2,10]\n",
    "np.random.shuffle(y) \n",
    "# بيعمل ترتيب عشوائي لليست\n",
    "y"
   ]
  },
  {
   "cell_type": "code",
   "execution_count": 22,
   "metadata": {},
   "outputs": [
    {
     "data": {
      "text/plain": [
       "array([ 0,  1,  2,  3,  4,  5,  6,  7,  8,  9, 10, 11, 12, 13, 14, 15, 16,\n",
       "       17])"
      ]
     },
     "execution_count": 22,
     "metadata": {},
     "output_type": "execute_result"
    }
   ],
   "source": [
    "a=np.arange(18) # make list with numbers from 0 to 17 \n",
    "\n",
    "a"
   ]
  },
  {
   "cell_type": "code",
   "execution_count": 23,
   "metadata": {},
   "outputs": [
    {
     "data": {
      "text/plain": [
       "array([ 2,  3,  4,  5,  6,  7,  8,  9, 10, 11, 12, 13, 14, 15, 16, 17])"
      ]
     },
     "execution_count": 23,
     "metadata": {},
     "output_type": "execute_result"
    }
   ],
   "source": [
    "a=np.arange(2,18) # 2 to 18\n",
    "a"
   ]
  },
  {
   "cell_type": "code",
   "execution_count": 24,
   "metadata": {},
   "outputs": [
    {
     "data": {
      "text/plain": [
       "array([ 0.,  5., 10., 15., 20.])"
      ]
     },
     "execution_count": 24,
     "metadata": {},
     "output_type": "execute_result"
    }
   ],
   "source": [
    "a=np.linspace(0,20,5) # هيجيب خمس ارقام بس بين 0 و 20 بس الفرق بينهم متساوي \n",
    "a\n"
   ]
  },
  {
   "cell_type": "markdown",
   "metadata": {},
   "source": [
    "# Matrix"
   ]
  },
  {
   "cell_type": "code",
   "execution_count": 26,
   "metadata": {},
   "outputs": [
    {
     "data": {
      "text/plain": [
       "array([[2, 3, 4],\n",
       "       [4, 5, 6],\n",
       "       [6, 7, 8]])"
      ]
     },
     "execution_count": 26,
     "metadata": {},
     "output_type": "execute_result"
    }
   ],
   "source": [
    "a=np.array([range(i,i+3)for i  in [2,4,6]])\n",
    "a\n",
    "# in[1,2,3,4,5,6]]) creates a NumPy array with 6 rows and 3 columns.\n",
    "# Each row represents a range of integers, starting with the value of the corresponding \n",
    "# index in the list [1, 2, 3, 4, 5, 6] and ending with the value of the index plus 3.\n",
    "# For example, the first row of the array contains the range of integers from 1 to 4, \n",
    "# the second row contains the range of integers from 2 to 5, and so on.\n",
    "\n"
   ]
  },
  {
   "cell_type": "code",
   "execution_count": 27,
   "metadata": {},
   "outputs": [
    {
     "data": {
      "text/plain": [
       "array([[0.35317213, 0.84887096],\n",
       "       [0.55085369, 0.1287737 ]])"
      ]
     },
     "execution_count": 27,
     "metadata": {},
     "output_type": "execute_result"
    }
   ],
   "source": [
    "c=np.random.random((2,2))\n",
    " # matrix with random numbers\n",
    "c"
   ]
  },
  {
   "cell_type": "code",
   "execution_count": 28,
   "metadata": {},
   "outputs": [
    {
     "data": {
      "text/plain": [
       "array([-0.31939279, -0.16628659,  0.37851641,  0.49104584,  0.10853422,\n",
       "        1.56271223,  1.9862693 , -0.23316027, -0.7106763 , -0.26165573])"
      ]
     },
     "execution_count": 28,
     "metadata": {},
     "output_type": "execute_result"
    }
   ],
   "source": [
    "a=np.random.normal(0,1,10)\n",
    " # matrix with ten elemnts uisng normal detrubtion\n",
    "a"
   ]
  },
  {
   "cell_type": "code",
   "execution_count": 29,
   "metadata": {},
   "outputs": [
    {
     "data": {
      "text/plain": [
       "array([[ 8,  7, 11],\n",
       "       [19, 16,  8],\n",
       "       [12, 18, 16]])"
      ]
     },
     "execution_count": 29,
     "metadata": {},
     "output_type": "execute_result"
    }
   ],
   "source": [
    "a=np.random.randint(5,20,(3,3)) \n",
    "# matrix with intger random numbers between 5 ,20\n",
    "a"
   ]
  },
  {
   "cell_type": "code",
   "execution_count": 30,
   "metadata": {},
   "outputs": [
    {
     "data": {
      "text/plain": [
       "array([[[ 9, 15, 17],\n",
       "        [19, 12, 17],\n",
       "        [15,  6,  8]],\n",
       "\n",
       "       [[ 6,  6,  9],\n",
       "        [18, 18, 13],\n",
       "        [17, 14, 17]],\n",
       "\n",
       "       [[17, 14, 17],\n",
       "        [13,  7, 12],\n",
       "        [16,  6, 17]]])"
      ]
     },
     "execution_count": 30,
     "metadata": {},
     "output_type": "execute_result"
    }
   ],
   "source": [
    "a=np.random.randint(5,20,(3,3,3)) \n",
    "# 3D matrix with random numbers\n",
    "a"
   ]
  },
  {
   "cell_type": "code",
   "execution_count": 36,
   "metadata": {},
   "outputs": [
    {
     "data": {
      "text/plain": [
       "array([[9, 6, 9],\n",
       "       [8, 8, 5],\n",
       "       [7, 8, 7]])"
      ]
     },
     "execution_count": 36,
     "metadata": {},
     "output_type": "execute_result"
    }
   ],
   "source": [
    "b =np.random.randint(5,10,size=9) \n",
    "b = np.reshape(b,(3,3)) # convert list a to matrix 3 * 3\n",
    "b"
   ]
  },
  {
   "cell_type": "code",
   "execution_count": 38,
   "metadata": {},
   "outputs": [
    {
     "data": {
      "text/plain": [
       "array([[ 0,  1,  2,  3,  4,  5],\n",
       "       [ 6,  7,  8,  9, 10, 11],\n",
       "       [12, 13, 14, 15, 16, 17]])"
      ]
     },
     "execution_count": 38,
     "metadata": {},
     "output_type": "execute_result"
    }
   ],
   "source": [
    "a=np.arange(18).reshape(3,6) #هيحط الارقام من 0 ل 18 في مصفوفه 3*6\n",
    "a"
   ]
  },
  {
   "cell_type": "code",
   "execution_count": 39,
   "metadata": {},
   "outputs": [
    {
     "data": {
      "text/plain": [
       "array([0., 0., 0., 0., 0., 0., 0., 0.])"
      ]
     },
     "execution_count": 39,
     "metadata": {},
     "output_type": "execute_result"
    }
   ],
   "source": [
    "a = np.zeros(8)\n",
    "a"
   ]
  },
  {
   "cell_type": "code",
   "execution_count": 42,
   "metadata": {},
   "outputs": [
    {
     "data": {
      "text/plain": [
       "array([[1, 1],\n",
       "       [1, 1],\n",
       "       [1, 1]])"
      ]
     },
     "execution_count": 42,
     "metadata": {},
     "output_type": "execute_result"
    }
   ],
   "source": [
    "a = np.ones((3,2),int) # = a=np.empty((3,2)) # matrix 3*2 of zeros \n",
    "a"
   ]
  },
  {
   "cell_type": "code",
   "execution_count": 43,
   "metadata": {},
   "outputs": [
    {
     "data": {
      "text/plain": [
       "array([[1., 0.],\n",
       "       [0., 1.]])"
      ]
     },
     "execution_count": 43,
     "metadata": {},
     "output_type": "execute_result"
    }
   ],
   "source": [
    "a = np.eye(2,2) # identity Matrix\n",
    "a"
   ]
  },
  {
   "cell_type": "code",
   "execution_count": 44,
   "metadata": {},
   "outputs": [
    {
     "data": {
      "text/plain": [
       "array([[10, 10, 10, 10, 10],\n",
       "       [10, 10, 10, 10, 10],\n",
       "       [10, 10, 10, 10, 10]])"
      ]
     },
     "execution_count": 44,
     "metadata": {},
     "output_type": "execute_result"
    }
   ],
   "source": [
    "a = np.full((3,5),10) # matrix 3*5 all elemnts = 10\n",
    "a"
   ]
  },
  {
   "cell_type": "code",
   "execution_count": 45,
   "metadata": {},
   "outputs": [
    {
     "data": {
      "text/plain": [
       "array([[1, 0, 0, 0],\n",
       "       [0, 2, 0, 0],\n",
       "       [0, 0, 3, 0],\n",
       "       [0, 0, 0, 4]])"
      ]
     },
     "execution_count": 45,
     "metadata": {},
     "output_type": "execute_result"
    }
   ],
   "source": [
    "a = np.diag(np.array([1,2,3,4]))# هيعمل مصفوفه صفريه وهيحط الارقام دي في القطر الرئيسي\n",
    "a"
   ]
  },
  {
   "cell_type": "code",
   "execution_count": 47,
   "metadata": {},
   "outputs": [
    {
     "name": "stdout",
     "output_type": "stream",
     "text": [
      "4 \n",
      "\n",
      "0 \n",
      "\n",
      "[0 0 0 0] \n",
      "\n"
     ]
    }
   ],
   "source": [
    "b = np.count_nonzero(a) # number of non zero elemnts in matrix\n",
    "print(b,'\\n')\n",
    "\n",
    "b = np.count_nonzero(a>7) # number of elemnts that grater than 7 in matrix\n",
    "print(b,'\\n')\n",
    "\n",
    "b = np.count_nonzero(a>7,axis =1) # هيشتغل بشكل افقي\n",
    "print(b,'\\n')"
   ]
  },
  {
   "cell_type": "code",
   "execution_count": 55,
   "metadata": {},
   "outputs": [
    {
     "data": {
      "text/plain": [
       "array([[10, 20, 30],\n",
       "       [40, 50, 60],\n",
       "       [70, 80, 90]])"
      ]
     },
     "execution_count": 55,
     "metadata": {},
     "output_type": "execute_result"
    }
   ],
   "source": [
    "a = np.array([[1,2,3],[4,5,6],[7,8,9]]) \n",
    "b = np.zeros_like(a) \n",
    "np.multiply(a,10,out=b) # multiply all elmnts in matrix a by 10 and store res in b\n",
    "b"
   ]
  },
  {
   "cell_type": "code",
   "execution_count": 56,
   "metadata": {},
   "outputs": [
    {
     "data": {
      "text/plain": [
       "array([[   1,   16,   81],\n",
       "       [ 256,  625, 1296],\n",
       "       [2401, 4096, 6561]])"
      ]
     },
     "execution_count": 56,
     "metadata": {},
     "output_type": "execute_result"
    }
   ],
   "source": [
    "a = np.array([[1,2,3],[4,5,6],[7,8,9]]) \n",
    "b = np.zeros_like(a) \n",
    "np.power(a,4,out=b)\n",
    "b"
   ]
  },
  {
   "cell_type": "code",
   "execution_count": 58,
   "metadata": {},
   "outputs": [
    {
     "data": {
      "text/plain": [
       "array([12, 15, 18])"
      ]
     },
     "execution_count": 58,
     "metadata": {},
     "output_type": "execute_result"
    }
   ],
   "source": [
    "b = np.add.reduce(a) # hegma3 kol 3naser el matrix 3la ba3d\n",
    "b"
   ]
  },
  {
   "cell_type": "code",
   "execution_count": 60,
   "metadata": {},
   "outputs": [
    {
     "data": {
      "text/plain": [
       "array([ 28,  80, 162])"
      ]
     },
     "execution_count": 60,
     "metadata": {},
     "output_type": "execute_result"
    }
   ],
   "source": [
    "b = np.multiply.reduce(a) \n",
    "b\n"
   ]
  },
  {
   "cell_type": "code",
   "execution_count": 62,
   "metadata": {},
   "outputs": [
    {
     "data": {
      "text/plain": [
       "array([ 1,  3,  6, 10])"
      ]
     },
     "execution_count": 62,
     "metadata": {},
     "output_type": "execute_result"
    }
   ],
   "source": [
    "b = np.add.accumulate([1,2,3,4]) # hy3mal gm3 trakome ya3ne kol 3nsor besawe mgmo3 kol ele 2blo \n",
    "b"
   ]
  },
  {
   "cell_type": "code",
   "execution_count": 64,
   "metadata": {},
   "outputs": [
    {
     "data": {
      "text/plain": [
       "array([ 1,  2,  6, 24])"
      ]
     },
     "execution_count": 64,
     "metadata": {},
     "output_type": "execute_result"
    }
   ],
   "source": [
    "b = np.multiply.accumulate([1,2,3,4])\n",
    "b"
   ]
  },
  {
   "cell_type": "code",
   "execution_count": 73,
   "metadata": {},
   "outputs": [],
   "source": [
    "a = np.array([[1,2,3],[4,5,6],[7,8,9]]) \n",
    "b = a.size # number of matrix elelmnts \n",
    "b = len(a) # number of matrix rows \n",
    "b = a.shape # herg3 2b3ad el matrix \n",
    "e = a.dtype  # return m type \n"
   ]
  },
  {
   "cell_type": "code",
   "execution_count": 75,
   "metadata": {},
   "outputs": [
    {
     "data": {
      "text/plain": [
       "15"
      ]
     },
     "execution_count": 75,
     "metadata": {},
     "output_type": "execute_result"
    }
   ],
   "source": [
    "c=np.trace(a) # sum of  diagonal elemnts \n",
    "c"
   ]
  },
  {
   "cell_type": "code",
   "execution_count": 76,
   "metadata": {},
   "outputs": [
    {
     "data": {
      "text/plain": [
       "0.0"
      ]
     },
     "execution_count": 76,
     "metadata": {},
     "output_type": "execute_result"
    }
   ],
   "source": [
    "c=np.linalg.det(a) # return the determan of MAtrix\n",
    "c"
   ]
  },
  {
   "cell_type": "code",
   "execution_count": 78,
   "metadata": {},
   "outputs": [
    {
     "data": {
      "text/plain": [
       "array([[ 0,  1,  2,  3,  4,  5],\n",
       "       [ 6,  7,  8,  9, 10, 11],\n",
       "       [12, 13, 14, 15, 16, 17],\n",
       "       [18, 19, 20, 21, 22, 23],\n",
       "       [24, 25, 26, 27, 28, 29],\n",
       "       [30, 31, 32, 33, 34, 35]])"
      ]
     },
     "execution_count": 78,
     "metadata": {},
     "output_type": "execute_result"
    }
   ],
   "source": [
    "a=np.arange(36).reshape(6,6)\n",
    "a"
   ]
  },
  {
   "cell_type": "code",
   "execution_count": 80,
   "metadata": {},
   "outputs": [
    {
     "data": {
      "text/plain": [
       "array([[ 1,  2],\n",
       "       [ 7,  8],\n",
       "       [13, 14],\n",
       "       [19, 20],\n",
       "       [25, 26],\n",
       "       [31, 32]])"
      ]
     },
     "execution_count": 80,
     "metadata": {},
     "output_type": "execute_result"
    }
   ],
   "source": [
    "c = a[3,3] # العنصر في الصف الرابع العمود الرابع\n",
    "b = a[3,:] # fourth row \n",
    "b = a[:,3] # fourth column \n",
    "d = a[:,1:3] #  كده هيخد كل الصفوف بس من العمود التاني للرابع \n",
    "# يعني هيبدئ من التاني وهيقف قبل الرابع \n",
    "d"
   ]
  },
  {
   "cell_type": "code",
   "execution_count": 81,
   "metadata": {},
   "outputs": [],
   "source": [
    "g = a[1:2,:] # من الصف التاني لقبل التالت وكل الاعمده\n",
    "#يعني الصف التاني بس \n",
    "f = a[1:3,2:4]\n",
    "s = a[2:,3:] # من الصف التالت للاخر ومن العمود الرابع للاخر\n",
    "s1 = a[:2,:3]\n",
    "s2 = a[:,-1] # الصفوف كلها والعمود الاخير \n",
    "s3 = a[-1,:]\n",
    "s4=a[::2,::3] # كده بقولو ابدئ من الصف الاول بس امشي خطوتين \n",
    "#يعين هيطبع الصف الاول و التالت والخامس وفي الاعمده هيطبع الرابع والسابع \n",
    "\n",
    "b = a[:,1:3] # كده هياخد كل الصفوف بس العمود التاني والتالت\n"
   ]
  },
  {
   "cell_type": "code",
   "execution_count": 82,
   "metadata": {},
   "outputs": [],
   "source": [
    "b = a[:,1:3].copy() # عشان لو غيرت في المصفوفه الاوله التانيه متتغيرش \n",
    "        "
   ]
  },
  {
   "cell_type": "code",
   "execution_count": 83,
   "metadata": {},
   "outputs": [
    {
     "data": {
      "text/plain": [
       "array([0, 1, 2, 3, 4, 5])"
      ]
     },
     "execution_count": 83,
     "metadata": {},
     "output_type": "execute_result"
    }
   ],
   "source": [
    "a =[0,1,2,3,4,5,6,7,8,9,70]\n",
    "x1,x2,x3=np.split(a,(3,6)) # كده بقولو قسم الليست لتلات اجزاء من الاول لحد العنصر التالت وحو في متغير \n",
    "# ومن الرابع للسابع وحطو في متغير والبااقي في متغير  \n",
    "x1,x2,x3=np.split(a,(6,3)) # لو الرقم الكبير هو الي جه الاول يبقي هياخد لحد السادس وبعدين هياخد ليستت فاضيه\n",
    "# وبعدين هياخد من التالت للاخر \n",
    "x1"
   ]
  },
  {
   "cell_type": "code",
   "execution_count": 84,
   "metadata": {},
   "outputs": [
    {
     "data": {
      "text/plain": [
       "array([[0, 2],\n",
       "       [4, 6]])"
      ]
     },
     "execution_count": 84,
     "metadata": {},
     "output_type": "execute_result"
    }
   ],
   "source": [
    "b = 2*np.arange(4).reshape(2,2)\n",
    "b"
   ]
  },
  {
   "cell_type": "code",
   "execution_count": 87,
   "metadata": {},
   "outputs": [
    {
     "name": "stdout",
     "output_type": "stream",
     "text": [
      "[[0 2]\n",
      " [4 6]\n",
      " [0 2]\n",
      " [4 6]] \n",
      "\n",
      "[[0 2 0 2]\n",
      " [4 6 4 6]] \n",
      "\n"
     ]
    }
   ],
   "source": [
    "a= 2*np.arange(4).reshape(2,2)\n",
    "c =np.vstack((a,b)) # كده هيضم المصفوفيتن معا بعض بشكل رأسي \n",
    "print(c,'\\n')\n",
    "\n",
    "c =np.hstack((a,b)) # كده هيضم المصفوفيتن معا بعض بشكل افقي\n",
    "print(c,'\\n')"
   ]
  },
  {
   "cell_type": "code",
   "execution_count": 88,
   "metadata": {},
   "outputs": [
    {
     "name": "stdout",
     "output_type": "stream",
     "text": [
      "[[0 2 0 2]\n",
      " [4 6 4 6]] \n",
      "\n",
      "[[0 2]\n",
      " [4 6]\n",
      " [0 2]\n",
      " [4 6]] \n",
      "\n"
     ]
    }
   ],
   "source": [
    "c = np.concatenate( [ a , b ] , axis = 1 ) # = hstack\n",
    "print(c,'\\n')\n",
    "\n",
    "c = np.concatenate( [ a , b ] , axis = 0 ) # = Vstack\n",
    "print(c,'\\n')"
   ]
  },
  {
   "cell_type": "code",
   "execution_count": 89,
   "metadata": {},
   "outputs": [
    {
     "name": "stdout",
     "output_type": "stream",
     "text": [
      "3\n"
     ]
    }
   ],
   "source": [
    "print( np.argmax(a) ) # كده هيرجعلي مكان اكبر قيمه "
   ]
  },
  {
   "cell_type": "code",
   "execution_count": 90,
   "metadata": {},
   "outputs": [
    {
     "data": {
      "text/plain": [
       "array([[0, 2],\n",
       "       [4, 6],\n",
       "       [0, 2],\n",
       "       [4, 6]])"
      ]
     },
     "execution_count": 90,
     "metadata": {},
     "output_type": "execute_result"
    }
   ],
   "source": [
    "C = np.argmin(a)\n",
    "c"
   ]
  },
  {
   "cell_type": "code",
   "execution_count": 92,
   "metadata": {},
   "outputs": [
    {
     "data": {
      "text/plain": [
       "array([[ 0,  4],\n",
       "       [16, 36]])"
      ]
     },
     "execution_count": 92,
     "metadata": {},
     "output_type": "execute_result"
    }
   ],
   "source": [
    "b = a**2 # squre for all matrix a elemnts \n",
    "b"
   ]
  },
  {
   "cell_type": "code",
   "execution_count": 94,
   "metadata": {},
   "outputs": [
    {
     "data": {
      "text/plain": [
       "array([[ 32,  72],\n",
       "       [ 96, 232]])"
      ]
     },
     "execution_count": 94,
     "metadata": {},
     "output_type": "execute_result"
    }
   ],
   "source": [
    "c = np.dot(a,b) # multible two matrix \n",
    "c"
   ]
  },
  {
   "cell_type": "code",
   "execution_count": 95,
   "metadata": {},
   "outputs": [],
   "source": [
    "b = a.sum(axis = 1 ) # sum of each row \n",
    "b = a.sum(axis = 0 ) # sum of each column \n",
    "b = a.var()\n",
    "b = a.mean()\n",
    "b = a.std()"
   ]
  },
  {
   "cell_type": "code",
   "execution_count": 96,
   "metadata": {},
   "outputs": [
    {
     "data": {
      "text/plain": [
       "array([[0, 2],\n",
       "       [4, 6]])"
      ]
     },
     "execution_count": 96,
     "metadata": {},
     "output_type": "execute_result"
    }
   ],
   "source": [
    "b = np.sort(a,axis = 0 )# sort of each column \n",
    "b"
   ]
  },
  {
   "cell_type": "code",
   "execution_count": 97,
   "metadata": {},
   "outputs": [],
   "source": [
    "b= np.linalg.inv(a) # inverce of a \n"
   ]
  },
  {
   "cell_type": "code",
   "execution_count": 98,
   "metadata": {},
   "outputs": [
    {
     "name": "stdout",
     "output_type": "stream",
     "text": [
      "2\n"
     ]
    }
   ],
   "source": [
    "a = [[11, 12, 13], [21, 22, 23], [31, 32, 33]]\n",
    "print(np.ndim(a))"
   ]
  },
  {
   "cell_type": "markdown",
   "metadata": {},
   "source": [
    "# FILES"
   ]
  },
  {
   "cell_type": "code",
   "execution_count": null,
   "metadata": {},
   "outputs": [],
   "source": [
    "\n",
    "fpath =r\"G:\\BRMAGA\\maachine larning\\ML\\Regression\\1.TXT\"# partition letter + : \\\\ + folder name +\\\\ folder name +\\\\ filename\n",
    "dtype1 = np.dtype([(\"gender\",\"|s1\") , (\"height\",\"f8\")])\n",
    "# The dtype1 variable is defining the data type of the loaded data.\n",
    "# In this case, it is a structured data type containing two fields: 'Sex' \n",
    "# of type string of length 1 and 'height' of type float."
   ]
  },
  {
   "cell_type": "code",
   "execution_count": null,
   "metadata": {},
   "outputs": [],
   "source": [
    "a = np.loadtxt(fpath , dtype =dtype1 , skiprows = 2 ,usecols=(1,3) )\n",
    "#skiprows = 2  de 3shan ytgahel 2wel stren fe el file \n",
    "a = np.loadtxt(fpath, dtype=dtype1, skiprows=9, usecols=(1,3)) \n",
    "print(a)\n"
   ]
  },
  {
   "cell_type": "code",
   "execution_count": null,
   "metadata": {},
   "outputs": [],
   "source": [
    "a,b,c = np.loadtxt(r\"G:\\BRMAGA\\maachine larning\\ML\\Regression\\1.TXT\", unpack=True,skiprows=3)\n"
   ]
  },
  {
   "cell_type": "code",
   "execution_count": null,
   "metadata": {},
   "outputs": [],
   "source": [
    "data = np.genfromtxt('D:\\\\0.txt', skip_header=1,\n",
    "                  dtype=[('student','u8'),\n",
    "                         ('gender','|S1'),('black','f8'),\n",
    "                         ('colour','f8')],delimiter=',',\n",
    "                         missing_values='X')"
   ]
  },
  {
   "cell_type": "markdown",
   "metadata": {},
   "source": [
    "# Polynomial"
   ]
  },
  {
   "cell_type": "code",
   "execution_count": 104,
   "metadata": {},
   "outputs": [],
   "source": [
    "equation = np.polynomial.Polynomial"
   ]
  },
  {
   "cell_type": "code",
   "execution_count": 106,
   "metadata": {},
   "outputs": [
    {
     "name": "stdout",
     "output_type": "stream",
     "text": [
      "5.5 - 4.5 x\n",
      "[array([5.62063395e-30]), 2, array([1., 1.]), 2.220446049250313e-15]\n"
     ]
    }
   ],
   "source": [
    "X= np.array([0,20,40,60,80,100,120,140,160,180])\n",
    "Y= np.array([10,9,8,7,6,5,4,3,2,1])\n",
    "# lazem len x = len y\n",
    "points,state = equation.fit(X, Y, 1, full = True )\n",
    "print(points)\n",
    "print(state)\n"
   ]
  },
  {
   "cell_type": "code",
   "execution_count": 107,
   "metadata": {},
   "outputs": [
    {
     "data": {
      "text/plain": [
       "poly1d([-7,  2,  1,  3,  6])"
      ]
     },
     "execution_count": 107,
     "metadata": {},
     "output_type": "execute_result"
    }
   ],
   "source": [
    "a =  np.poly1d((-7))  # 7d motlq \n",
    "b =  np.poly1d((-7,2)) # x , 7d motlq\n",
    "c =  np.poly1d((-7,2,1)) # x^2 , x , rqam \n",
    "d =  np.poly1d((-7,2,1,3))\n",
    "e =  np.poly1d((-7,2,1,3,6))\n",
    "e"
   ]
  },
  {
   "cell_type": "code",
   "execution_count": 109,
   "metadata": {},
   "outputs": [
    {
     "data": {
      "text/plain": [
       "37"
      ]
     },
     "execution_count": 109,
     "metadata": {},
     "output_type": "execute_result"
    }
   ],
   "source": [
    "a= np.polyval((7,2),5)  # hy3mal mo3dla we y3wod feha b 5\n",
    "a"
   ]
  },
  {
   "cell_type": "code",
   "execution_count": 110,
   "metadata": {},
   "outputs": [
    {
     "data": {
      "text/plain": [
       "poly1d([-14,   2])"
      ]
     },
     "execution_count": 110,
     "metadata": {},
     "output_type": "execute_result"
    }
   ],
   "source": [
    "a = np.polyder(c) # 2shtqaq el function c \n",
    "a"
   ]
  },
  {
   "cell_type": "code",
   "execution_count": 111,
   "metadata": {},
   "outputs": [
    {
     "data": {
      "text/plain": [
       "poly1d([0])"
      ]
     },
     "execution_count": 111,
     "metadata": {},
     "output_type": "execute_result"
    }
   ],
   "source": [
    "a = np.polyder(c,2)# 2shtqaq el function c marten \n",
    "a = np.polyder(c,3)# 2shtqaq el function c tlat mrat  \n",
    "a"
   ]
  },
  {
   "cell_type": "code",
   "execution_count": 112,
   "metadata": {},
   "outputs": [
    {
     "data": {
      "text/plain": [
       "poly1d([0.08333333, 0.33333333, 1.5       , 0.        , 0.        ])"
      ]
     },
     "execution_count": 112,
     "metadata": {},
     "output_type": "execute_result"
    }
   ],
   "source": [
    "a =np.polyint(np.poly1d((1,2,3))) #tkamol\n",
    "a =np.polyint(np.poly1d((1,2,3)),2) \n",
    "a"
   ]
  },
  {
   "cell_type": "code",
   "execution_count": 113,
   "metadata": {},
   "outputs": [
    {
     "name": "stdout",
     "output_type": "stream",
     "text": [
      "2\n"
     ]
    }
   ],
   "source": [
    "print(b(0)) # kda hy3od be zero fe mo3dlet b "
   ]
  },
  {
   "cell_type": "code",
   "execution_count": 114,
   "metadata": {},
   "outputs": [
    {
     "data": {
      "text/plain": [
       "array([-2.])"
      ]
     },
     "execution_count": 114,
     "metadata": {},
     "output_type": "execute_result"
    }
   ],
   "source": [
    "a =np.roots(np.poly1d((1,2)))\n",
    "a"
   ]
  },
  {
   "cell_type": "markdown",
   "metadata": {},
   "source": [
    "# DATE"
   ]
  },
  {
   "cell_type": "code",
   "execution_count": 115,
   "metadata": {},
   "outputs": [
    {
     "data": {
      "text/plain": [
       "numpy.datetime64('2015-07-04')"
      ]
     },
     "execution_count": 115,
     "metadata": {},
     "output_type": "execute_result"
    }
   ],
   "source": [
    "x = np.array('2015-07-04', dtype=np.datetime64)\n",
    "#or \n",
    "x = np.datetime64('2015-07-04')\n",
    "x"
   ]
  },
  {
   "cell_type": "code",
   "execution_count": 116,
   "metadata": {},
   "outputs": [
    {
     "data": {
      "text/plain": [
       "array(['2015-07-04', '2015-07-05', '2015-07-06', '2015-07-07',\n",
       "       '2015-07-08', '2015-07-09', '2015-07-10', '2015-07-11',\n",
       "       '2015-07-12', '2015-07-13', '2015-07-14', '2015-07-15'],\n",
       "      dtype='datetime64[D]')"
      ]
     },
     "execution_count": 116,
     "metadata": {},
     "output_type": "execute_result"
    }
   ],
   "source": [
    "y = x + np.arange(12)  # hezzod 11 yoam\n",
    "y"
   ]
  },
  {
   "cell_type": "code",
   "execution_count": 118,
   "metadata": {},
   "outputs": [
    {
     "data": {
      "text/plain": [
       "array(['2015-07-04', '2015-07-03', '2015-07-02', '2015-07-01',\n",
       "       '2015-06-30', '2015-06-29', '2015-06-28', '2015-06-27',\n",
       "       '2015-06-26', '2015-06-25', '2015-06-24', '2015-06-23'],\n",
       "      dtype='datetime64[D]')"
      ]
     },
     "execution_count": 118,
     "metadata": {},
     "output_type": "execute_result"
    }
   ],
   "source": [
    "y = x - np.arange(12) # hetra7 2yam\n",
    "y"
   ]
  },
  {
   "cell_type": "code",
   "execution_count": 119,
   "metadata": {},
   "outputs": [],
   "source": [
    "z = y-x # fr2 el 2yam "
   ]
  },
  {
   "cell_type": "markdown",
   "metadata": {},
   "source": [
    "# functions in numpy"
   ]
  },
  {
   "cell_type": "code",
   "execution_count": 120,
   "metadata": {},
   "outputs": [
    {
     "data": {
      "text/plain": [
       "array([  0.,   1.,   8.,  27.,  64., 125., 216., 343., 512., 729.])"
      ]
     },
     "execution_count": 120,
     "metadata": {},
     "output_type": "execute_result"
    }
   ],
   "source": [
    "c= np.fromfunction(lambda i:i**3,  (10,))\n",
    "# hy3mel matrix feha 2rkam mn 0 to 10 we hat moka3b kol 3onsor feha \n",
    "#lambda 3shan lw 3awez 23mel function fe satr wa7ed  \n",
    "c"
   ]
  },
  {
   "cell_type": "code",
   "execution_count": 121,
   "metadata": {},
   "outputs": [
    {
     "data": {
      "text/plain": [
       "array([ 0,  1,  4,  9, 16, 25, 36, 49, 64])"
      ]
     },
     "execution_count": 121,
     "metadata": {},
     "output_type": "execute_result"
    }
   ],
   "source": [
    "def powers(i):\n",
    "    i = i**2\n",
    "    return i\n",
    " \n",
    "x = np.fromfunction(powers, (9,), dtype=int)\n",
    "x"
   ]
  }
 ],
 "metadata": {
  "kernelspec": {
   "display_name": "Python 3",
   "language": "python",
   "name": "python3"
  },
  "language_info": {
   "codemirror_mode": {
    "name": "ipython",
    "version": 3
   },
   "file_extension": ".py",
   "mimetype": "text/x-python",
   "name": "python",
   "nbconvert_exporter": "python",
   "pygments_lexer": "ipython3",
   "version": "3.11.4"
  },
  "orig_nbformat": 4
 },
 "nbformat": 4,
 "nbformat_minor": 2
}
