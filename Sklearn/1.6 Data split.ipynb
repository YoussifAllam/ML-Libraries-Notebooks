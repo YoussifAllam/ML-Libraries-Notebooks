{
 "cells": [
  {
   "cell_type": "markdown",
   "metadata": {},
   "source": [
    "# Data split\n",
    "It is specific to the division of data prior to its training, and it is done by using the model_selection of the sklearn library\n",
    "It has more than one tool:\n",
    "* model_selection.train_test_split\n",
    "* model_selection.Kfold\n",
    "* model_selection.RepeatedKFold\n",
    "* model_selection.StratifiedKFold\n",
    "* model_selection.RepeatedStratifiedKFold\n",
    "* model_selection.LeaveOneOut\n",
    "* model_selection.LeavePOut\n",
    "* model_selection.ShuffleSplit\n",
    "* model_selection.StratifiedShuffleSplit\n",
    "* model_selection.TimeSeriesSplit\n"
   ]
  },
  {
   "cell_type": "markdown",
   "metadata": {},
   "source": [
    "#### train_test_split\n",
    "to split a dataset into two subsets: a training set and a test set.\n",
    "\n",
    "The training set is used to train a machine learning model, and the test set is used to evaluate the performance of the model.\n",
    "\n",
    "* arrays: The dataset to be split. This can be a list, a NumPy array, a scipy.sparse matrix, or a pandas DataFrame.\n",
    "\n",
    "* test_size: The proportion of the dataset to include in the test split. This can be a float between 0 and 1, or an integer representing the absolute number of test samples.\n",
    "\n",
    "* random_state: A random number generator seed. This is used to randomize the order of the data before splitting it, \n",
    "\n",
    "which helps to ensure that the training and test sets are representative of the entire dataset.\n",
    "* stratify: If this is set to a categorical variable, the data will be stratified so that the proportion of each \n",
    "\n",
    "category in the training and test sets is the same as the proportion of the category in the original dataset. This is important for \n",
    "\n",
    "classification problems, where it is important that the training and test sets have the same class distributions.\n"
   ]
  },
  {
   "cell_type": "code",
   "execution_count": 4,
   "metadata": {},
   "outputs": [
    {
     "name": "stdout",
     "output_type": "stream",
     "text": [
      "X_train shape is  (3, 2)\n",
      "X_test shape is  (2, 2)\n"
     ]
    }
   ],
   "source": [
    "#Import Libraries\n",
    "from sklearn.model_selection import train_test_split\n",
    "import numpy as np  \n",
    "#----------------------------------------------------\n",
    "X = np.arange(10).reshape((5, 2)) \n",
    "y = range(5)\n",
    "\n",
    "X\n",
    "list(y)\n",
    "#Splitting data\n",
    "\n",
    "X_train, X_test, y_train, y_test = train_test_split(X, y, test_size=0.33, random_state=44, shuffle =True)\n",
    "\n",
    "#Splitted Data\n",
    "print('X_train shape is ' , X_train.shape)\n",
    "print('X_test shape is ' , X_test.shape)\n"
   ]
  },
  {
   "cell_type": "markdown",
   "metadata": {},
   "source": [
    "#### KFold\n",
    "KFold is a cross-validation method that splits the data into k folds. The data is then used to train a model k times, with each fold being used as the test set once. This helps to ensure that the model is not overfitting the training data, as it is being evaluated on different folds of the data each time.\n",
    "\n",
    "The KFold class in scikit-learn takes the following parameters:\n",
    "\n",
    "* n_splits: The number of folds to use. This must be at least 2.\n",
    "\n",
    "* shuffle: Whether to shuffle the data before splitting it.\n",
    "\n",
    " This is usually a good idea, as it helps to ensure that the folds are representative of the entire dataset.\n",
    "\n",
    "* random_state: A random number generator seed. This is used to randomize the order of the data before splitting it, which helps to ensure that the folds are unique."
   ]
  },
  {
   "cell_type": "code",
   "execution_count": 6,
   "metadata": {},
   "outputs": [
    {
     "name": "stdout",
     "output_type": "stream",
     "text": [
      "Train Data is : \n",
      " [0 1 2]\n",
      "Test Data is  : \n",
      " [3]\n",
      "-------------------------------\n",
      "X_train Shape is   (3, 2)\n",
      "X_test Shape is   (1, 2)\n",
      "y_train Shape is   (3,)\n",
      "y_test Shape is   (1,)\n",
      "========================================\n",
      "Train Data is : \n",
      " [0 1 3]\n",
      "Test Data is  : \n",
      " [2]\n",
      "-------------------------------\n",
      "X_train Shape is   (3, 2)\n",
      "X_test Shape is   (1, 2)\n",
      "y_train Shape is   (3,)\n",
      "y_test Shape is   (1,)\n",
      "========================================\n",
      "Train Data is : \n",
      " [0 2 3]\n",
      "Test Data is  : \n",
      " [1]\n",
      "-------------------------------\n",
      "X_train Shape is   (3, 2)\n",
      "X_test Shape is   (1, 2)\n",
      "y_train Shape is   (3,)\n",
      "y_test Shape is   (1,)\n",
      "========================================\n",
      "Train Data is : \n",
      " [1 2 3]\n",
      "Test Data is  : \n",
      " [0]\n",
      "-------------------------------\n",
      "X_train Shape is   (3, 2)\n",
      "X_test Shape is   (1, 2)\n",
      "y_train Shape is   (3,)\n",
      "y_test Shape is   (1,)\n",
      "========================================\n"
     ]
    }
   ],
   "source": [
    "#Import Libraries\n",
    "from sklearn.model_selection import KFold\n",
    "#----------------------------------------------------\n",
    "\n",
    "#KFold Splitting data\n",
    "\n",
    "kf = KFold(n_splits=4, random_state=44, shuffle =True)\n",
    "X = np.array([[1, 2], [3, 4], [5, 6], [7, 8]])\n",
    "y = np.array([11, 22, 33, 44])\n",
    "#KFold Data\n",
    "for train_index, test_index in kf.split(X):\n",
    "    print('Train Data is : \\n', train_index)\n",
    "    print('Test Data is  : \\n', test_index)\n",
    "    print('-------------------------------')\n",
    "    X_train, X_test = X[train_index], X[test_index]\n",
    "    y_train, y_test = y[train_index], y[test_index]\n",
    "    print('X_train Shape is  ' , X_train.shape)\n",
    "    print('X_test Shape is  ' , X_test.shape)\n",
    "    print('y_train Shape is  ' ,y_train.shape)\n",
    "    print('y_test Shape is  ' , y_test.shape)\n",
    "    print('========================================')"
   ]
  }
 ],
 "metadata": {
  "kernelspec": {
   "display_name": "Python 3",
   "language": "python",
   "name": "python3"
  },
  "language_info": {
   "codemirror_mode": {
    "name": "ipython",
    "version": 3
   },
   "file_extension": ".py",
   "mimetype": "text/x-python",
   "name": "python",
   "nbconvert_exporter": "python",
   "pygments_lexer": "ipython3",
   "version": "3.11.4"
  },
  "orig_nbformat": 4
 },
 "nbformat": 4,
 "nbformat_minor": 2
}
