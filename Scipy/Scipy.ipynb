{
 "cells": [
  {
   "cell_type": "code",
   "execution_count": 1,
   "metadata": {},
   "outputs": [],
   "source": [
    "import scipy as sc  # for scientfic python \n",
    "import numpy as np\n",
    "import matplotlib.pyplot as plt"
   ]
  },
  {
   "cell_type": "code",
   "execution_count": 2,
   "metadata": {},
   "outputs": [],
   "source": [
    "\n",
    "def f(x):\n",
    "    return x**2 + 10*np.sin(x)"
   ]
  },
  {
   "cell_type": "markdown",
   "metadata": {},
   "source": [
    "# fminbound\n",
    "* فايدتها زي في ماده بحوثلما احب اجيب المنيممبتاع داله بديبو حدود هيعوض بلارقام الي بينهم في الداله وهيرجعلي\n",
    "* القيمه الي همدها كانت فيمه الفانكشن المايمكن "
   ]
  },
  {
   "cell_type": "code",
   "execution_count": 3,
   "metadata": {},
   "outputs": [
    {
     "name": "stdout",
     "output_type": "stream",
     "text": [
      "(-1.3061484200406244, -7.94582288025181, 0, 11)\n"
     ]
    }
   ],
   "source": [
    "a = sc.optimize.fminbound(f,# function\n",
    "                          x1 = -10,# first bound \n",
    "                          x2 = 10,#second bound\n",
    "                          xtol = 0.01, # Max Tolerance or eps\n",
    "                          full_output = True,# details \n",
    "                          disp = 1 ) #show only numbers\n",
    "\n",
    "print(a) # Value of x , Value of y , 0 for convergance , number of iterations"
   ]
  },
  {
   "cell_type": "code",
   "execution_count": 4,
   "metadata": {},
   "outputs": [
    {
     "name": "stdout",
     "output_type": "stream",
     "text": [
      "\n",
      "Optimization terminated successfully;\n",
      "The returned value satisfies the termination criteria\n",
      "(using xtol =  0.01 )\n",
      "(-1.3061484200406244, -7.94582288025181, 0, 11)\n"
     ]
    }
   ],
   "source": [
    "a = sc.optimize.fminbound(f,\n",
    "                          x1 = -10,\n",
    "                          x2 = 10,\n",
    "                          xtol = 0.01, \n",
    "                          full_output = True,\n",
    "                          disp = 2 ) # show some details\n",
    "\n",
    "print(a) \n",
    "# Optimization terminated successfully;\n",
    "# The returned value satisfies the termination criteria\n",
    "# (using xtol =  0.01 )\n",
    "# (-1.3061484200406244, -7.94582288025181, 0, 11)"
   ]
  },
  {
   "cell_type": "code",
   "execution_count": 5,
   "metadata": {},
   "outputs": [
    {
     "name": "stdout",
     "output_type": "stream",
     "text": [
      " \n",
      " Func-count     x          f(x)          Procedure\n",
      "    1       -2.36068     -1.46647        initial\n",
      "    2        2.36068      12.6121        golden\n",
      "    3       -5.27864      36.3032        golden\n",
      "    4      -0.715181     -6.04606        parabolic\n",
      "    5      -0.795481     -6.50921        parabolic\n",
      "    6       -1.28322     -7.94269        parabolic\n",
      "    7       -1.69477     -7.05101        golden\n",
      "    8       -1.29818     -7.94543        parabolic\n",
      "    9       -1.30615     -7.94582        parabolic\n",
      "   10       -1.30948     -7.94577        parabolic\n",
      "   11       -1.30282     -7.94575        parabolic\n",
      "\n",
      "Optimization terminated successfully;\n",
      "The returned value satisfies the termination criteria\n",
      "(using xtol =  0.01 )\n",
      "(-1.3061484200406244, -7.94582288025181, 0, 11)\n"
     ]
    }
   ],
   "source": [
    "def f(x):\n",
    "    return x**2 + 10*np.sin(x)\n",
    "\n",
    "a = sc.optimize.fminbound(f,\n",
    "                          x1 = -10,\n",
    "                          x2 = 10,\n",
    "                          xtol = 0.01, \n",
    "                          full_output = True, \n",
    "                          disp = 3 ) #show iterations\n",
    "\n",
    "print(a)"
   ]
  },
  {
   "cell_type": "code",
   "execution_count": 6,
   "metadata": {},
   "outputs": [
    {
     "name": "stdout",
     "output_type": "stream",
     "text": [
      "-3.999996435239639 \n",
      "\n",
      "-1.1102230246251565e-16 \n",
      "\n",
      "-3.999996435239639 \n",
      "\n",
      "2.0 \n",
      "\n",
      "0.868518564878511 \n",
      "\n",
      "-2.1499620000850844e-06 \n",
      "\n"
     ]
    }
   ],
   "source": [
    "def a(x):\n",
    "    return (x)\n",
    "def b(x):\n",
    "    return (x**2)\n",
    "def c(x):\n",
    "    return (x**3)\n",
    "def d(x):\n",
    "    return (x**2 - 4*x + 1)\n",
    "def e(x):\n",
    "    return (x**3 + x**2 - 4*x - 3)\n",
    "def f(x):\n",
    "    return (1/x)\n",
    "\n",
    "amin = sc.optimize.fminbound(a, -4, 4)\n",
    "print(amin,'\\n')\n",
    "bmin = sc.optimize.fminbound(b, -4, 4)\n",
    "print(bmin,'\\n')\n",
    "cmin = sc.optimize.fminbound(c, -4, 4)\n",
    "print(cmin,'\\n')\n",
    "dmin = sc.optimize.fminbound(d, -4, 4)\n",
    "print(dmin,'\\n')\n",
    "emin = sc.optimize.fminbound(e, -4, 4)\n",
    "print(emin,'\\n')\n",
    "fmin = sc.optimize.fminbound(f, -4, 4)\n",
    "print(fmin,'\\n')"
   ]
  },
  {
   "cell_type": "code",
   "execution_count": 7,
   "metadata": {},
   "outputs": [
    {
     "data": {
      "image/png": "[encoded data removed]",
      "text/plain": [
       "<Figure size 640x480 with 1 Axes>"
      ]
     },
     "metadata": {},
     "output_type": "display_data"
    },
    {
     "name": "stdout",
     "output_type": "stream",
     "text": [
      "         Current function value: 1239.195121\n",
      "         Iterations: 2\n",
      "         Function evaluations: 8\n",
      "         Gradient evaluations: 4\n",
      "(array([35.29788524]), [array([50]), array([44.95]), array([35.29788524])])\n"
     ]
    },
    {
     "name": "stderr",
     "output_type": "stream",
     "text": [
      "c:\\Users\\Youssif Allam\\AppData\\Local\\Programs\\Python\\Python311\\Lib\\site-packages\\scipy\\optimize\\_optimize.py:1359: OptimizeWarning: Maximum number of iterations has been exceeded.\n",
      "  res = _minimize_bfgs(f, x0, args, fprime, callback=callback, **opts)\n"
     ]
    }
   ],
   "source": [
    "def f(x):\n",
    "    return x**2 + 10*np.sin(x)\n",
    "\n",
    "x = np.arange(-10, 10, 0.1)\n",
    "plt.plot(x, f(x))\n",
    "plt.show()\n",
    "\n",
    "\n",
    "a = sc.optimize.fmin_bfgs(f, #function\n",
    "                          x0 = 50 , # a value to start\n",
    "                          epsilon = 10 ,  # step\n",
    "                          disp = 1 , # if 1 then display full details\n",
    "                          retall = 1 ,# if 1 then display all iterations\n",
    "                          maxiter = 2 ) #max no. of ierations\n",
    "print(a)"
   ]
  },
  {
   "cell_type": "code",
   "execution_count": 8,
   "metadata": {},
   "outputs": [
    {
     "name": "stdout",
     "output_type": "stream",
     "text": [
      "global minimum: x = -0.1951, f(x0) = -1.0009\n"
     ]
    },
    {
     "name": "stderr",
     "output_type": "stream",
     "text": [
      "C:\\Users\\Youssif Allam\\AppData\\Local\\Temp\\ipykernel_10400\\1256268355.py:9: DeprecationWarning: Conversion of an array with ndim > 0 to a scalar is deprecated, and will error in future. Ensure you extract a single element from your array before performing this operation. (Deprecated NumPy 1.25.)\n",
      "  print(\"global minimum: x = %.4f, f(x0) = %.4f\" % (ret.x, ret.fun))\n"
     ]
    }
   ],
   "source": [
    "\n",
    "func = lambda x: np.cos(14.5 * x - 0.3) + (x + 0.2) * x\n",
    "x0=[1.]\n",
    "\n",
    "ret = sc.optimize.basinhopping(func, #function\n",
    "                               x0 , # a value to start\n",
    "                                # method = BFGS\n",
    "                               minimizer_kwargs={\"method\": \"BFGS\"},\n",
    "                               niter=200) #max no. if ierations\n",
    "print(\"global minimum: x = %.4f, f(x0) = %.4f\" % (ret.x, ret.fun))"
   ]
  },
  {
   "cell_type": "markdown",
   "metadata": {},
   "source": [
    "#  fsolve command\n",
    "*\t لحل المعادلات : يأتي بالجذر الأكبر فقط"
   ]
  },
  {
   "cell_type": "code",
   "execution_count": 9,
   "metadata": {},
   "outputs": [
    {
     "name": "stdout",
     "output_type": "stream",
     "text": [
      "(array([5.]), {'nfev': 9, 'fjac': array([[-1.]]), 'r': array([-8.00003226]), 'qtf': array([-1.23520701e-07]), 'fvec': array([4.97379915e-13])}, 1, 'The solution converged.')\n"
     ]
    }
   ],
   "source": [
    "def f(x):\n",
    "    return x**2 - 2*x -15\n",
    "\n",
    "a = sc.optimize.fsolve(f,x0 = 10 , full_output=True )\n",
    "print(a)\n"
   ]
  },
  {
   "cell_type": "markdown",
   "metadata": {},
   "source": [
    "# curve_fit"
   ]
  },
  {
   "cell_type": "code",
   "execution_count": 10,
   "metadata": {},
   "outputs": [
    {
     "data": {
      "text/plain": [
       "[<matplotlib.lines.Line2D at 0x28f45154f10>]"
      ]
     },
     "execution_count": 10,
     "metadata": {},
     "output_type": "execute_result"
    },
    {
     "data": {
      "image/png": "[encoded data removed]",
      "text/plain": [
       "<Figure size 640x480 with 1 Axes>"
      ]
     },
     "metadata": {},
     "output_type": "display_data"
    }
   ],
   "source": [
    "from scipy.optimize import curve_fit\n",
    "def func(x, a, b, c):\n",
    "    return a * np.exp(-b * x) + c\n",
    "\n",
    "#random values of X \n",
    "xdata = np.linspace(0, 4, 50)\n",
    "y = func(xdata, 2.5, 1.3, 0.5)\n",
    "np.random.seed(1729)\n",
    "\n",
    "# y noise\n",
    "y_noise = 0.2 * np.random.normal(size=xdata.size)\n",
    "ydata = y + y_noise\n",
    "plt.plot(xdata, ydata, 'b-', label='data')  # draw the blue line\n",
    "\n",
    "\n",
    "popt, pcov = sc.optimize.curve_fit(func, xdata, ydata) #fitting\n",
    "plt.plot(xdata, func(xdata, *popt), 'r-', #draw the red line\n",
    "         label='fit: a=%5.3f, b=%5.3f, c=%5.3f' % tuple(popt))"
   ]
  },
  {
   "cell_type": "code",
   "execution_count": 11,
   "metadata": {},
   "outputs": [
    {
     "data": {
      "image/png": "[encoded data removed]",
      "text/plain": [
       "<Figure size 640x480 with 1 Axes>"
      ]
     },
     "metadata": {},
     "output_type": "display_data"
    }
   ],
   "source": [
    "\n",
    "#fit with bounds\n",
    "popt, pcov =sc.optimize.curve_fit(func,xdata,ydata,bounds=(0,[3., 1., 0.5]))\n",
    "plt.plot(xdata, func(xdata, *popt),  #draw the green line\n",
    "         'g--',label='fit: a=%5.3f, b=%5.3f, c=%5.3f' % tuple(popt))\n",
    "\n",
    "\n",
    "plt.xlabel('x')\n",
    "plt.ylabel('y')\n",
    "plt.legend()\n",
    "plt.show()"
   ]
  },
  {
   "cell_type": "markdown",
   "metadata": {},
   "source": [
    "# glab\n",
    "*  للبحث عن الملفات   هنا يأتي بكل الملفات "
   ]
  },
  {
   "cell_type": "code",
   "execution_count": 13,
   "metadata": {},
   "outputs": [
    {
     "name": "stdout",
     "output_type": "stream",
     "text": [
      "[]\n"
     ]
    }
   ],
   "source": [
    "import glob as gb\n",
    "a = gb.glob(pathname= 'D:\\\\Machine Learning\\\\000\\\\*.*')\n",
    "\n",
    "b = gb.glob1('D:\\\\Machine Learning\\\\000\\\\' , '*.*' ) # hygeb el 2sem bs \n",
    "\n",
    "\n",
    "\n",
    "#\tللبحث عن ملف معين  ,بالاسم و المسار \n",
    "a = gb.glob(pathname= 'D:\\\\Machine Learning\\\\000\\\\*.pdf')\n",
    "print(a)"
   ]
  },
  {
   "cell_type": "markdown",
   "metadata": {},
   "source": [
    "# datetime\n"
   ]
  },
  {
   "cell_type": "code",
   "execution_count": 2,
   "metadata": {},
   "outputs": [
    {
     "name": "stdout",
     "output_type": "stream",
     "text": [
      "2023-08-29 15:24:46.511146\n"
     ]
    }
   ],
   "source": [
    "from datetime import datetime\n",
    "now1 = datetime.now()\n",
    "print(now1)"
   ]
  },
  {
   "cell_type": "code",
   "execution_count": 16,
   "metadata": {},
   "outputs": [
    {
     "data": {
      "text/plain": [
       "'08-28-23. 28 Aug 2023 is a Monday on the 28 day of August.'"
      ]
     },
     "execution_count": 16,
     "metadata": {},
     "output_type": "execute_result"
    }
   ],
   "source": [
    "now = date.today()\n",
    "a = now.strftime(\"%m-%d-%y. %d %b %Y is a %A on the %d day of %B.\")\n",
    "a"
   ]
  },
  {
   "cell_type": "code",
   "execution_count": 17,
   "metadata": {},
   "outputs": [
    {
     "data": {
      "text/plain": [
       "datetime.date(1982, 2, 2)"
      ]
     },
     "execution_count": 17,
     "metadata": {},
     "output_type": "execute_result"
    }
   ],
   "source": [
    "a = date(1982, 2, 2)\n",
    "a"
   ]
  },
  {
   "cell_type": "code",
   "execution_count": 18,
   "metadata": {},
   "outputs": [
    {
     "data": {
      "text/plain": [
       "datetime.timedelta(days=15182)"
      ]
     },
     "execution_count": 18,
     "metadata": {},
     "output_type": "execute_result"
    }
   ],
   "source": [
    "now = date.today()\n",
    "a = date(1982, 2, 2)\n",
    "z = now-a\n",
    "z"
   ]
  },
  {
   "cell_type": "code",
   "execution_count": 20,
   "metadata": {},
   "outputs": [
    {
     "data": {
      "text/plain": [
       "datetime.timedelta(days=10633)"
      ]
     },
     "execution_count": 20,
     "metadata": {},
     "output_type": "execute_result"
    }
   ],
   "source": [
    "a = date(1982, 2, 2)\n",
    "b = date(2011, 3, 15)\n",
    "z = b-a\n",
    "z"
   ]
  },
  {
   "cell_type": "code",
   "execution_count": 22,
   "metadata": {},
   "outputs": [
    {
     "data": {
      "text/plain": [
       "datetime.datetime(1982, 2, 2, 18, 43, 12)"
      ]
     },
     "execution_count": 22,
     "metadata": {},
     "output_type": "execute_result"
    }
   ],
   "source": [
    "from datetime import datetime\n",
    "a = datetime(year=2011, month=3, day=15,\n",
    "             hour=13 ,minute = 15, second = 9)\n",
    "\n",
    "b = datetime(year=1982, month=2, day=2,\n",
    "             hour=18 ,minute = 43, second = 12)\n",
    "b"
   ]
  },
  {
   "cell_type": "code",
   "execution_count": 24,
   "metadata": {},
   "outputs": [
    {
     "data": {
      "text/plain": [
       "time.struct_time(tm_year=2023, tm_mon=8, tm_mday=28, tm_hour=17, tm_min=9, tm_sec=4, tm_wday=0, tm_yday=240, tm_isdst=0)"
      ]
     },
     "execution_count": 24,
     "metadata": {},
     "output_type": "execute_result"
    }
   ],
   "source": [
    "import time\n",
    "t = time.gmtime()\n",
    "t"
   ]
  }
 ],
 "metadata": {
  "kernelspec": {
   "display_name": "f",
   "language": "python",
   "name": "python3"
  },
  "language_info": {
   "codemirror_mode": {
    "name": "ipython",
    "version": 3
   },
   "file_extension": ".py",
   "mimetype": "text/x-python",
   "name": "python",
   "nbconvert_exporter": "python",
   "pygments_lexer": "ipython3",
   "version": "3.11.4"
  },
  "orig_nbformat": 4
 },
 "nbformat": 4,
 "nbformat_minor": 2
}
