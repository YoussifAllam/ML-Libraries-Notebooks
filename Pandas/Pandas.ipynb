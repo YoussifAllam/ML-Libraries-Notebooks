{
 "cells": [
  {
   "cell_type": "code",
   "execution_count": 2,
   "metadata": {},
   "outputs": [],
   "source": [
    "import pandas as pd \n",
    "import numpy as np"
   ]
  },
  {
   "cell_type": "code",
   "execution_count": 3,
   "metadata": {},
   "outputs": [],
   "source": [
    "\n",
    "data = pd.Series([0.25, 0.5, 0.75, 1.0]) \n",
    "#3mal msfofa mn iD we kol 3nsor feha lo Key\n",
    "# el key bekon 3bara 3n rkam el index "
   ]
  },
  {
   "cell_type": "code",
   "execution_count": 4,
   "metadata": {},
   "outputs": [
    {
     "name": "stdout",
     "output_type": "stream",
     "text": [
      "40\n"
     ]
    }
   ],
   "source": [
    "data1 = pd.Series([1,2,3,4], index=['a', 'b', 'c', 'd']) \n",
    "# 3ashan lw ana ele 3awez 27ot el key bnfse \n",
    "#or \n",
    "data2 = pd.Series({'youssif':100,'bebo':20,'cemon':30,'omar':40}) # { key : value }\n",
    "print(data2['omar'])"
   ]
  },
  {
   "cell_type": "code",
   "execution_count": 5,
   "metadata": {},
   "outputs": [
    {
     "name": "stdout",
     "output_type": "stream",
     "text": [
      "[0.25 0.5  0.75 1.  ] \n",
      "\n",
      "RangeIndex(start=0, stop=4, step=1) \n",
      "\n",
      "<bound method Series.keys of 0    0.25\n",
      "1    0.50\n",
      "2    0.75\n",
      "3    1.00\n",
      "dtype: float64>\n"
     ]
    }
   ],
   "source": [
    "\n",
    "data = pd.Series((0.25, 0.5, 0.75, 1.0))\n",
    "print(data.values,'\\n')\n",
    "print(data.index,'\\n')\n",
    "print(data.keys)"
   ]
  },
  {
   "cell_type": "code",
   "execution_count": 6,
   "metadata": {},
   "outputs": [
    {
     "data": {
      "text/plain": [
       "<Axes: >"
      ]
     },
     "execution_count": 6,
     "metadata": {},
     "output_type": "execute_result"
    },
    {
     "data": {
      "image/png": "[encoded data removed]",
      "text/plain": [
       "<Figure size 640x480 with 1 Axes>"
      ]
     },
     "metadata": {},
     "output_type": "display_data"
    }
   ],
   "source": [
    "data = pd.Series((3,6,9,8,5,4,2,6,3,5,8))\n",
    "data.plot() # hy3mal plot ben y , x el dufalt bt3ha kind = line \n",
    "# x hya qem el key \n",
    "#y hya el values bta3t el series"
   ]
  },
  {
   "cell_type": "code",
   "execution_count": 7,
   "metadata": {},
   "outputs": [],
   "source": [
    "var = pd.DataFrame() # 3ashan 2stad3e el toll nfsha "
   ]
  },
  {
   "cell_type": "code",
   "execution_count": 8,
   "metadata": {},
   "outputs": [
    {
     "name": "stdout",
     "output_type": "stream",
     "text": [
      "   one  two  three  four  five  six\n",
      "a   30   20     25    28    26   11\n",
      "b    0    0     20    15     1    8\n",
      "c   31   29      0    25    10   35\n",
      "d    0   12     16     7    18   34\n",
      "e    6   24      3    27     8   22\n",
      "f    5    9     29    28    22   14\n"
     ]
    }
   ],
   "source": [
    "myarray = np.random.randint(0,36 ,(6,6) ) # 6*6 random matrix\n",
    "rownames = ['a', 'b','c','d','e','f']\n",
    "colnames = ['one', 'two', 'three','four','five','six']\n",
    "df = pd.DataFrame(myarray, index=rownames, columns=colnames) # hna 2na sdet key lkol row we lkol col\n",
    "print(df)"
   ]
  },
  {
   "cell_type": "code",
   "execution_count": 9,
   "metadata": {},
   "outputs": [
    {
     "name": "stdout",
     "output_type": "stream",
     "text": [
      "a    16\n",
      "b    17\n",
      "c    18\n",
      "d    19\n",
      "e    20\n",
      "dtype: int64\n"
     ]
    }
   ],
   "source": [
    "w = pd.Series({'a':1 ,'b':2 ,'c':3 ,'d':4 ,'e':5}) # b3mel column 3bara 3n keys we values \n",
    "x = pd.Series({'a':6 ,'b':7 ,'c':8 ,'d':9 ,'e':10})\n",
    "y = pd.Series({'a':11 ,'b':12 ,'c':13 ,'d':14 ,'e':15})\n",
    "z = pd.Series({'a':16 ,'b':17 ,'c':18 ,'d':19 ,'e':20})\n",
    "print(z)"
   ]
  },
  {
   "cell_type": "code",
   "execution_count": 10,
   "metadata": {},
   "outputs": [
    {
     "data": {
      "text/html": [
       "<div>\n",
       "<style scoped>\n",
       "    .dataframe tbody tr th:only-of-type {\n",
       "        vertical-align: middle;\n",
       "    }\n",
       "\n",
       "    .dataframe tbody tr th {\n",
       "        vertical-align: top;\n",
       "    }\n",
       "\n",
       "    .dataframe thead th {\n",
       "        text-align: right;\n",
       "    }\n",
       "</style>\n",
       "<table border=\"1\" class=\"dataframe\">\n",
       "  <thead>\n",
       "    <tr style=\"text-align: right;\">\n",
       "      <th></th>\n",
       "      <th>Math</th>\n",
       "      <th>Physics</th>\n",
       "      <th>French</th>\n",
       "      <th>Chemistry</th>\n",
       "    </tr>\n",
       "  </thead>\n",
       "  <tbody>\n",
       "    <tr>\n",
       "      <th>a</th>\n",
       "      <td>1</td>\n",
       "      <td>6</td>\n",
       "      <td>11</td>\n",
       "      <td>16</td>\n",
       "    </tr>\n",
       "    <tr>\n",
       "      <th>b</th>\n",
       "      <td>2</td>\n",
       "      <td>7</td>\n",
       "      <td>12</td>\n",
       "      <td>17</td>\n",
       "    </tr>\n",
       "    <tr>\n",
       "      <th>c</th>\n",
       "      <td>3</td>\n",
       "      <td>8</td>\n",
       "      <td>13</td>\n",
       "      <td>18</td>\n",
       "    </tr>\n",
       "    <tr>\n",
       "      <th>d</th>\n",
       "      <td>4</td>\n",
       "      <td>9</td>\n",
       "      <td>14</td>\n",
       "      <td>19</td>\n",
       "    </tr>\n",
       "    <tr>\n",
       "      <th>e</th>\n",
       "      <td>5</td>\n",
       "      <td>10</td>\n",
       "      <td>15</td>\n",
       "      <td>20</td>\n",
       "    </tr>\n",
       "  </tbody>\n",
       "</table>\n",
       "</div>"
      ],
      "text/plain": [
       "   Math  Physics  French  Chemistry\n",
       "a     1        6      11         16\n",
       "b     2        7      12         17\n",
       "c     3        8      13         18\n",
       "d     4        9      14         19\n",
       "e     5       10      15         20"
      ]
     },
     "execution_count": 10,
     "metadata": {},
     "output_type": "execute_result"
    }
   ],
   "source": [
    "grades = pd.DataFrame({'Math':w,'Physics':x,'French':y,'Chemistry':z}) # hna hde col series ele hya 3bara 3n dictionary\n",
    "# hdkhlha fe dectionary tane we h7le lkol roe key \n",
    "grades"
   ]
  },
  {
   "cell_type": "code",
   "execution_count": 11,
   "metadata": {},
   "outputs": [],
   "source": [
    "w = pd.Series({'a':1 ,'b':2 ,'c':3 ,'d':4 ,'e':5}) \n",
    "x = pd.Series({'e':6 ,'f':7 ,'j':8 ,'k':9 ,'l':10})\n",
    "y = pd.Series({'m':11 ,'n':12 ,'o':13 ,'p':14 ,'q':15})\n",
    "z = pd.Series({'a':16 ,'b':17 ,'c':18 ,'d':19 ,'e':20})\n",
    "grades = pd.DataFrame({'Math':w,'Physics':x,'French':y,'Chemistry':z}) "
   ]
  },
  {
   "cell_type": "code",
   "execution_count": 12,
   "metadata": {},
   "outputs": [
    {
     "name": "stdout",
     "output_type": "stream",
     "text": [
      "   Math  Physics  French  Chemistry\n",
      "a   1.0      NaN     NaN       16.0\n",
      "b   2.0      NaN     NaN       17.0\n",
      "c   3.0      NaN     NaN       18.0\n",
      "d   4.0      NaN     NaN       19.0\n",
      "e   5.0      6.0     NaN       20.0\n",
      "f   NaN      7.0     NaN        NaN\n",
      "j   NaN      8.0     NaN        NaN\n",
      "k   NaN      9.0     NaN        NaN\n",
      "l   NaN     10.0     NaN        NaN\n",
      "m   NaN      NaN    11.0        NaN\n",
      "n   NaN      NaN    12.0        NaN\n",
      "o   NaN      NaN    13.0        NaN\n",
      "p   NaN      NaN    14.0        NaN\n",
      "q   NaN      NaN    15.0        NaN\n"
     ]
    }
   ],
   "source": [
    "print(grades)"
   ]
  },
  {
   "cell_type": "code",
   "execution_count": 13,
   "metadata": {},
   "outputs": [
    {
     "name": "stdout",
     "output_type": "stream",
     "text": [
      "a    1.0\n",
      "b    2.0\n",
      "c    3.0\n",
      "d    4.0\n",
      "e    5.0\n",
      "f    NaN\n",
      "j    NaN\n",
      "k    NaN\n",
      "l    NaN\n",
      "m    NaN\n",
      "n    NaN\n",
      "o    NaN\n",
      "p    NaN\n",
      "q    NaN\n",
      "Name: Math, dtype: float64\n"
     ]
    }
   ],
   "source": [
    "print(grades['Math'])"
   ]
  },
  {
   "cell_type": "code",
   "execution_count": 14,
   "metadata": {},
   "outputs": [
    {
     "name": "stdout",
     "output_type": "stream",
     "text": [
      "              a     b     c     d     e    f    j    k     l     m     n  \\\n",
      "Math        1.0   2.0   3.0   4.0   5.0  NaN  NaN  NaN   NaN   NaN   NaN   \n",
      "Physics     NaN   NaN   NaN   NaN   6.0  7.0  8.0  9.0  10.0   NaN   NaN   \n",
      "French      NaN   NaN   NaN   NaN   NaN  NaN  NaN  NaN   NaN  11.0  12.0   \n",
      "Chemistry  16.0  17.0  18.0  19.0  20.0  NaN  NaN  NaN   NaN   NaN   NaN   \n",
      "\n",
      "              o     p     q  \n",
      "Math        NaN   NaN   NaN  \n",
      "Physics     NaN   NaN   NaN  \n",
      "French     13.0  14.0  15.0  \n",
      "Chemistry   NaN   NaN   NaN  \n"
     ]
    }
   ],
   "source": [
    "print(grades.T)"
   ]
  },
  {
   "cell_type": "code",
   "execution_count": 15,
   "metadata": {},
   "outputs": [
    {
     "name": "stdout",
     "output_type": "stream",
     "text": [
      "Index(['Math', 'Physics', 'French', 'Chemistry'], dtype='object')\n"
     ]
    }
   ],
   "source": [
    "print(grades.keys())"
   ]
  },
  {
   "cell_type": "code",
   "execution_count": 16,
   "metadata": {},
   "outputs": [
    {
     "name": "stdout",
     "output_type": "stream",
     "text": [
      "[[ 1. nan nan 16.]\n",
      " [ 2. nan nan 17.]\n",
      " [ 3. nan nan 18.]\n",
      " [ 4. nan nan 19.]\n",
      " [ 5.  6. nan 20.]\n",
      " [nan  7. nan nan]\n",
      " [nan  8. nan nan]\n",
      " [nan  9. nan nan]\n",
      " [nan 10. nan nan]\n",
      " [nan nan 11. nan]\n",
      " [nan nan 12. nan]\n",
      " [nan nan 13. nan]\n",
      " [nan nan 14. nan]\n",
      " [nan nan 15. nan]]\n"
     ]
    }
   ],
   "source": [
    "print(grades.values)"
   ]
  },
  {
   "cell_type": "code",
   "execution_count": 17,
   "metadata": {},
   "outputs": [
    {
     "name": "stdout",
     "output_type": "stream",
     "text": [
      "True\n",
      "False\n"
     ]
    }
   ],
   "source": [
    "print('Math' in grades.keys()) # True\n",
    "print('math' in grades.keys()) # False"
   ]
  },
  {
   "cell_type": "code",
   "execution_count": 18,
   "metadata": {},
   "outputs": [
    {
     "name": "stdout",
     "output_type": "stream",
     "text": [
      "True\n"
     ]
    }
   ],
   "source": [
    "print( 12 in grades.values )"
   ]
  },
  {
   "cell_type": "code",
   "execution_count": 19,
   "metadata": {},
   "outputs": [
    {
     "name": "stdout",
     "output_type": "stream",
     "text": [
      "a  Math          1.0\n",
      "   Chemistry    16.0\n",
      "b  Math          2.0\n",
      "   Chemistry    17.0\n",
      "c  Math          3.0\n",
      "   Chemistry    18.0\n",
      "d  Math          4.0\n",
      "   Chemistry    19.0\n",
      "e  Math          5.0\n",
      "   Physics       6.0\n",
      "   Chemistry    20.0\n",
      "f  Physics       7.0\n",
      "j  Physics       8.0\n",
      "k  Physics       9.0\n",
      "l  Physics      10.0\n",
      "m  French       11.0\n",
      "n  French       12.0\n",
      "o  French       13.0\n",
      "p  French       14.0\n",
      "q  French       15.0\n",
      "dtype: float64\n"
     ]
    }
   ],
   "source": [
    "print(grades.stack()) # h3rad kol el qem ele mortta bel key el wa7ed \n",
    "# bm3na he3rad lkol student eldgree bta3to  3la hy2t list "
   ]
  },
  {
   "cell_type": "code",
   "execution_count": 20,
   "metadata": {},
   "outputs": [
    {
     "name": "stdout",
     "output_type": "stream",
     "text": [
      "   Math  Physics\n",
      "a   1.0      NaN\n",
      "b   2.0      NaN\n",
      "c   3.0      NaN\n"
     ]
    }
   ],
   "source": [
    "print(grades.iloc[:3, :2]) # lw 3awez 23red data mo3yana \n",
    "# hna he3r2 2wel 3 rows we 2 col"
   ]
  },
  {
   "cell_type": "markdown",
   "metadata": {},
   "source": [
    "#! The main difference between loc and iloc in Pandas is that loc is label-based,while iloc is integer-based.\n",
    "\n",
    "#! This means that loc can be used to select rows and columns by their names, \n",
    "\n",
    "#! while iloc can only be used to select rows and columns by their positions."
   ]
  },
  {
   "cell_type": "code",
   "execution_count": 21,
   "metadata": {},
   "outputs": [
    {
     "name": "stdout",
     "output_type": "stream",
     "text": [
      "Math          4.0\n",
      "Physics       NaN\n",
      "French        NaN\n",
      "Chemistry    19.0\n",
      "Name: d, dtype: float64\n"
     ]
    }
   ],
   "source": [
    "print(grades.iloc[3, :]) # student 'c'"
   ]
  },
  {
   "cell_type": "code",
   "execution_count": 23,
   "metadata": {},
   "outputs": [
    {
     "data": {
      "text/html": [
       "<div>\n",
       "<style scoped>\n",
       "    .dataframe tbody tr th:only-of-type {\n",
       "        vertical-align: middle;\n",
       "    }\n",
       "\n",
       "    .dataframe tbody tr th {\n",
       "        vertical-align: top;\n",
       "    }\n",
       "\n",
       "    .dataframe thead th {\n",
       "        text-align: right;\n",
       "    }\n",
       "</style>\n",
       "<table border=\"1\" class=\"dataframe\">\n",
       "  <thead>\n",
       "    <tr style=\"text-align: right;\">\n",
       "      <th></th>\n",
       "      <th>one</th>\n",
       "      <th>two</th>\n",
       "      <th>three</th>\n",
       "    </tr>\n",
       "  </thead>\n",
       "  <tbody>\n",
       "    <tr>\n",
       "      <th>a</th>\n",
       "      <td>30</td>\n",
       "      <td>20</td>\n",
       "      <td>25</td>\n",
       "    </tr>\n",
       "    <tr>\n",
       "      <th>b</th>\n",
       "      <td>0</td>\n",
       "      <td>0</td>\n",
       "      <td>20</td>\n",
       "    </tr>\n",
       "    <tr>\n",
       "      <th>c</th>\n",
       "      <td>31</td>\n",
       "      <td>29</td>\n",
       "      <td>0</td>\n",
       "    </tr>\n",
       "    <tr>\n",
       "      <th>d</th>\n",
       "      <td>0</td>\n",
       "      <td>12</td>\n",
       "      <td>16</td>\n",
       "    </tr>\n",
       "    <tr>\n",
       "      <th>e</th>\n",
       "      <td>6</td>\n",
       "      <td>24</td>\n",
       "      <td>3</td>\n",
       "    </tr>\n",
       "    <tr>\n",
       "      <th>f</th>\n",
       "      <td>5</td>\n",
       "      <td>9</td>\n",
       "      <td>29</td>\n",
       "    </tr>\n",
       "  </tbody>\n",
       "</table>\n",
       "</div>"
      ],
      "text/plain": [
       "   one  two  three\n",
       "a   30   20     25\n",
       "b    0    0     20\n",
       "c   31   29      0\n",
       "d    0   12     16\n",
       "e    6   24      3\n",
       "f    5    9     29"
      ]
     },
     "execution_count": 23,
     "metadata": {},
     "output_type": "execute_result"
    }
   ],
   "source": [
    "df.iloc[:, 0:3] # to get column 0 to 2 and all rows\n"
   ]
  },
  {
   "cell_type": "code",
   "execution_count": 24,
   "metadata": {},
   "outputs": [
    {
     "name": "stdout",
     "output_type": "stream",
     "text": [
      "   Math  Physics  French  Chemistry\n",
      "b   2.0      NaN     NaN       17.0\n",
      "c   3.0      NaN     NaN       18.0\n"
     ]
    }
   ],
   "source": [
    "print(grades.loc['b':'c', 'Math':]) # 3shan 2geb dat mo3yana "
   ]
  },
  {
   "cell_type": "code",
   "execution_count": 25,
   "metadata": {},
   "outputs": [
    {
     "name": "stdout",
     "output_type": "stream",
     "text": [
      "   Math  Physics  French  Chemistry\n",
      "d   4.0      NaN     NaN       19.0\n",
      "e   5.0      6.0     NaN       20.0\n"
     ]
    }
   ],
   "source": [
    "print(grades.loc[grades.Math >3]) \n",
    "# he3rad kol benat el students ele geben fe el math 2ktar mn 3"
   ]
  },
  {
   "cell_type": "code",
   "execution_count": 26,
   "metadata": {},
   "outputs": [
    {
     "name": "stdout",
     "output_type": "stream",
     "text": [
      "   Math  Physics  French  Chemistry\n",
      "l   NaN     10.0     NaN        NaN \n",
      "\n",
      "   French  Math\n",
      "d     NaN   4.0\n",
      "e     NaN   5.0\n"
     ]
    }
   ],
   "source": [
    "\n",
    "\n",
    "print(grades.loc[grades.Physics ==10],'\\n')\n",
    "print(grades.loc[grades.Math >3,['French' ,'Math']]) \n",
    "# 23red data el math we french llstudents ele gayben fe el amth 2ktar mn 3"
   ]
  },
  {
   "cell_type": "code",
   "execution_count": 27,
   "metadata": {},
   "outputs": [
    {
     "name": "stdout",
     "output_type": "stream",
     "text": [
      "   French  Math\n",
      "e     NaN   5.0\n"
     ]
    }
   ],
   "source": [
    "print(grades.loc[(grades.Math > 3) & (grades.Physics < 10), ['French', 'Math']])"
   ]
  },
  {
   "cell_type": "code",
   "execution_count": 28,
   "metadata": {},
   "outputs": [
    {
     "name": "stdout",
     "output_type": "stream",
     "text": [
      "   French  Math\n",
      "d     NaN   4.0\n",
      "e     NaN   5.0\n",
      "f     NaN   NaN\n",
      "j     NaN   NaN\n",
      "k     NaN   NaN \n",
      "\n"
     ]
    },
    {
     "data": {
      "text/html": [
       "<div>\n",
       "<style scoped>\n",
       "    .dataframe tbody tr th:only-of-type {\n",
       "        vertical-align: middle;\n",
       "    }\n",
       "\n",
       "    .dataframe tbody tr th {\n",
       "        vertical-align: top;\n",
       "    }\n",
       "\n",
       "    .dataframe thead th {\n",
       "        text-align: right;\n",
       "    }\n",
       "</style>\n",
       "<table border=\"1\" class=\"dataframe\">\n",
       "  <thead>\n",
       "    <tr style=\"text-align: right;\">\n",
       "      <th></th>\n",
       "      <th>Math</th>\n",
       "      <th>Physics</th>\n",
       "      <th>French</th>\n",
       "      <th>Chemistry</th>\n",
       "    </tr>\n",
       "  </thead>\n",
       "  <tbody>\n",
       "    <tr>\n",
       "      <th>e</th>\n",
       "      <td>5.0</td>\n",
       "      <td>6.0</td>\n",
       "      <td>NaN</td>\n",
       "      <td>20.0</td>\n",
       "    </tr>\n",
       "  </tbody>\n",
       "</table>\n",
       "</div>"
      ],
      "text/plain": [
       "   Math  Physics  French  Chemistry\n",
       "e   5.0      6.0     NaN       20.0"
      ]
     },
     "execution_count": 28,
     "metadata": {},
     "output_type": "execute_result"
    }
   ],
   "source": [
    "\n",
    "print(grades.loc[(grades.Math > 3) | (grades.Physics < 10), ['French', 'Math']],'\\n')\n",
    "\n",
    "result = grades.query('Math > 0.5 and Physics > 0.5') \n",
    "result"
   ]
  },
  {
   "cell_type": "code",
   "execution_count": 29,
   "metadata": {},
   "outputs": [
    {
     "data": {
      "text/plain": [
       "a    False\n",
       "b    False\n",
       "c    False\n",
       "d    False\n",
       "e     True\n",
       "f    False\n",
       "j    False\n",
       "k    False\n",
       "l    False\n",
       "m    False\n",
       "n    False\n",
       "o    False\n",
       "p    False\n",
       "q    False\n",
       "dtype: bool"
      ]
     },
     "execution_count": 29,
     "metadata": {},
     "output_type": "execute_result"
    }
   ],
   "source": [
    "tmp1 = grades.Math > 0.5\n",
    "tmp2 = grades.Physics > 0.5\n",
    "tmp3 = tmp1 & tmp2\n",
    "tmp3"
   ]
  },
  {
   "cell_type": "code",
   "execution_count": 31,
   "metadata": {},
   "outputs": [
    {
     "data": {
      "text/html": [
       "<div>\n",
       "<style scoped>\n",
       "    .dataframe tbody tr th:only-of-type {\n",
       "        vertical-align: middle;\n",
       "    }\n",
       "\n",
       "    .dataframe tbody tr th {\n",
       "        vertical-align: top;\n",
       "    }\n",
       "\n",
       "    .dataframe thead th {\n",
       "        text-align: right;\n",
       "    }\n",
       "</style>\n",
       "<table border=\"1\" class=\"dataframe\">\n",
       "  <thead>\n",
       "    <tr style=\"text-align: right;\">\n",
       "      <th></th>\n",
       "      <th>Math</th>\n",
       "      <th>Physics</th>\n",
       "      <th>French</th>\n",
       "      <th>Chemistry</th>\n",
       "    </tr>\n",
       "  </thead>\n",
       "  <tbody>\n",
       "    <tr>\n",
       "      <th>e</th>\n",
       "      <td>5.0</td>\n",
       "      <td>6.0</td>\n",
       "      <td>NaN</td>\n",
       "      <td>20.0</td>\n",
       "    </tr>\n",
       "  </tbody>\n",
       "</table>\n",
       "</div>"
      ],
      "text/plain": [
       "   Math  Physics  French  Chemistry\n",
       "e   5.0      6.0     NaN       20.0"
      ]
     },
     "execution_count": 31,
     "metadata": {},
     "output_type": "execute_result"
    }
   ],
   "source": [
    "result = grades[tmp3]\n",
    "result"
   ]
  },
  {
   "cell_type": "code",
   "execution_count": 32,
   "metadata": {},
   "outputs": [],
   "source": [
    "def make_df(cols, ind):\n",
    "    data = {c: [str(i) for i in ind] for c in cols}\n",
    "    return pd.DataFrame(data, ind)"
   ]
  },
  {
   "cell_type": "code",
   "execution_count": 33,
   "metadata": {},
   "outputs": [
    {
     "name": "stdout",
     "output_type": "stream",
     "text": [
      "   A  B  C  d\n",
      "0  0  0  0  0\n",
      "1  1  1  1  1\n",
      "2  2  2  2  2\n"
     ]
    }
   ],
   "source": [
    "print(make_df('ABCd', range(3)))"
   ]
  },
  {
   "cell_type": "code",
   "execution_count": 36,
   "metadata": {},
   "outputs": [
    {
     "name": "stdout",
     "output_type": "stream",
     "text": [
      "   Math  Physics  French  Chemistry\n",
      "e   5.0      6.0     NaN       20.0\n",
      "d   4.0      NaN     NaN       19.0\n",
      "c   3.0      NaN     NaN       18.0\n",
      "b   2.0      NaN     NaN       17.0\n",
      "a   1.0      NaN     NaN       16.0\n",
      "f   NaN      7.0     NaN        NaN\n",
      "j   NaN      8.0     NaN        NaN\n",
      "k   NaN      9.0     NaN        NaN\n",
      "l   NaN     10.0     NaN        NaN\n",
      "m   NaN      NaN    11.0        NaN\n",
      "n   NaN      NaN    12.0        NaN\n",
      "o   NaN      NaN    13.0        NaN\n",
      "p   NaN      NaN    14.0        NaN\n",
      "q   NaN      NaN    15.0        NaN \n",
      "\n",
      "\n",
      "   Math  Physics  French  Chemistry\n",
      "m   NaN      NaN    11.0        NaN\n",
      "n   NaN      NaN    12.0        NaN\n",
      "o   NaN      NaN    13.0        NaN\n",
      "p   NaN      NaN    14.0        NaN\n",
      "q   NaN      NaN    15.0        NaN\n",
      "a   1.0      NaN     NaN       16.0\n",
      "b   2.0      NaN     NaN       17.0\n",
      "c   3.0      NaN     NaN       18.0\n",
      "d   4.0      NaN     NaN       19.0\n",
      "e   5.0      6.0     NaN       20.0\n",
      "f   NaN      7.0     NaN        NaN\n",
      "j   NaN      8.0     NaN        NaN\n",
      "k   NaN      9.0     NaN        NaN\n",
      "l   NaN     10.0     NaN        NaN\n"
     ]
    }
   ],
   "source": [
    "print(grades.sort_values(['Math'],ascending= False),2*'\\n') # lw 3awez el data tatl3 baltrteb \n",
    "print(grades.sort_values(['French'],ascending= True)) #tsa3ode"
   ]
  },
  {
   "cell_type": "code",
   "execution_count": 37,
   "metadata": {},
   "outputs": [
    {
     "name": "stdout",
     "output_type": "stream",
     "text": [
      "Index(['Math', 'Physics', 'French', 'Chemistry'], dtype='object')\n",
      "Index(['a', 'b', 'c', 'd', 'e', 'f', 'j', 'k', 'l', 'm', 'n', 'o', 'p', 'q'], dtype='object')\n"
     ]
    }
   ],
   "source": [
    "print(grades.columns)\n",
    "print(grades.index) # Rows "
   ]
  },
  {
   "cell_type": "code",
   "execution_count": 38,
   "metadata": {},
   "outputs": [
    {
     "name": "stdout",
     "output_type": "stream",
     "text": [
      "0   -35.956663\n",
      "1    -1.177223\n",
      "2    -9.366944\n",
      "3    -1.356446\n",
      "4    -0.890879\n",
      "dtype: float64\n"
     ]
    }
   ],
   "source": [
    "grades['Total'] = (grades['Math'] + grades['French'] + \n",
    "      grades['Chemistry']+ grades['Physics']) /100 #b3mel colmun gded fe mgmo3 el values ele fe el columnns eltanya\n",
    "#or\n",
    "df = pd.DataFrame(np.random.rand(5, 3), columns=['A', 'B', 'C'])\n",
    "result = pd.eval(\"(df.A + df.B) / (df.C - 1)\")\n",
    "#or\n",
    "# print(df['A'])\n",
    "# print(df['C'])\n",
    "# print(df['B'])\n",
    "result = (df['A'] + df['B']) / (df['C'] - 1)\n",
    "print(result)"
   ]
  },
  {
   "cell_type": "code",
   "execution_count": 39,
   "metadata": {},
   "outputs": [
    {
     "name": "stdout",
     "output_type": "stream",
     "text": [
      "           Math    Physics     French  Chemistry  Total\n",
      "count  5.000000   5.000000   5.000000   5.000000    0.0\n",
      "mean   3.000000   8.000000  13.000000  18.000000    NaN\n",
      "std    1.581139   1.581139   1.581139   1.581139    NaN\n",
      "min    1.000000   6.000000  11.000000  16.000000    NaN\n",
      "25%    2.000000   7.000000  12.000000  17.000000    NaN\n",
      "50%    3.000000   8.000000  13.000000  18.000000    NaN\n",
      "75%    4.000000   9.000000  14.000000  19.000000    NaN\n",
      "max    5.000000  10.000000  15.000000  20.000000    NaN\n",
      "           Math    Physics     French  Chemistry  Total\n",
      "max    5.000000  10.000000  15.000000  20.000000    NaN\n",
      "min    1.000000   6.000000  11.000000  16.000000    NaN\n",
      "sum   15.000000  40.000000  65.000000  90.000000    0.0\n",
      "mean   3.000000   8.000000  13.000000  18.000000    NaN\n",
      "std    1.581139   1.581139   1.581139   1.581139    NaN\n",
      "Math          5.0\n",
      "Physics      10.0\n",
      "French       15.0\n",
      "Chemistry    20.0\n",
      "Total         NaN\n",
      "dtype: float64\n",
      "Math          1.0\n",
      "Physics       6.0\n",
      "French       11.0\n",
      "Chemistry    16.0\n",
      "Total         NaN\n",
      "dtype: float64\n",
      "Math          3.0\n",
      "Physics       8.0\n",
      "French       13.0\n",
      "Chemistry    18.0\n",
      "Total         NaN\n",
      "dtype: float64\n",
      "Math         1.581139\n",
      "Physics      1.581139\n",
      "French       1.581139\n",
      "Chemistry    1.581139\n",
      "Total             NaN\n",
      "dtype: float64\n",
      "5.0\n",
      "11.0\n",
      "8.0\n",
      "1.5811388300841898\n",
      "a     8.500000\n",
      "b     9.500000\n",
      "c    10.500000\n",
      "d    11.500000\n",
      "e    10.333333\n",
      "f     7.000000\n",
      "j     8.000000\n",
      "k     9.000000\n",
      "l    10.000000\n",
      "m    11.000000\n",
      "n    12.000000\n",
      "o    13.000000\n",
      "p    14.000000\n",
      "q    15.000000\n",
      "dtype: float64\n",
      "Math          3.0\n",
      "Physics       8.0\n",
      "French       13.0\n",
      "Chemistry    18.0\n",
      "Total         NaN\n",
      "dtype: float64\n",
      "           Math  Physics  French  Chemistry  Total\n",
      "Math        1.0      NaN     NaN        1.0    NaN\n",
      "Physics     NaN      1.0     NaN        NaN    NaN\n",
      "French      NaN      NaN     1.0        NaN    NaN\n",
      "Chemistry   1.0      NaN     NaN        1.0    NaN\n",
      "Total       NaN      NaN     NaN        NaN    NaN\n",
      "Math         0.0\n",
      "Physics      0.0\n",
      "French       0.0\n",
      "Chemistry    0.0\n",
      "Total        NaN\n",
      "dtype: float64\n",
      "Math         5\n",
      "Physics      5\n",
      "French       5\n",
      "Chemistry    5\n",
      "Total        0\n",
      "dtype: int64\n"
     ]
    }
   ],
   "source": [
    "print(grades.describe())\n",
    "print(grades.agg(['max','min','sum','mean','std']))\n",
    "print(grades.max())\n",
    "print(grades.min())\n",
    "print(grades.mean())\n",
    "print(grades.std())\n",
    "print(grades['Math'].max())\n",
    "print(grades['French'].min())\n",
    "print(grades['Physics'].mean())\n",
    "print(grades['Chemistry'].std())\n",
    "print(grades.mean(axis='columns')) # hygeb ll rows \n",
    "print(grades.mean(axis='rows'))    # hygeb ll col\n",
    "print(grades.corr()) # 3laqa ben el elemnts we ba3d \n",
    "print(grades.skew()) # الالتواء  \n",
    "print(grades.count()) "
   ]
  },
  {
   "cell_type": "code",
   "execution_count": 42,
   "metadata": {},
   "outputs": [
    {
     "name": "stdout",
     "output_type": "stream",
     "text": [
      "                 B         C\n",
      "A                           \n",
      "0.159291  0.970238  0.167287\n",
      "0.195139  0.616876  0.977417\n",
      "0.475365  0.818889  0.861827\n",
      "0.485893  0.120780  0.319017\n",
      "0.728843  0.259228  0.160677\n"
     ]
    }
   ],
   "source": [
    "print(df.groupby('A').mean()) # hygeb el mean bs lkol key lwa7do "
   ]
  },
  {
   "cell_type": "code",
   "execution_count": 44,
   "metadata": {},
   "outputs": [
    {
     "data": {
      "text/plain": [
       "[{'square': 0, 'cube': 0, 'root': 0.0},\n",
       " {'square': 1, 'cube': 1, 'root': 1.0},\n",
       " {'square': 4, 'cube': 8, 'root': 1.4142135623730951},\n",
       " {'square': 9, 'cube': 27, 'root': 1.7320508075688772},\n",
       " {'square': 16, 'cube': 64, 'root': 2.0},\n",
       " {'square': 25, 'cube': 125, 'root': 2.23606797749979},\n",
       " {'square': 36, 'cube': 216, 'root': 2.449489742783178},\n",
       " {'square': 49, 'cube': 343, 'root': 2.6457513110645907},\n",
       " {'square': 64, 'cube': 512, 'root': 2.8284271247461903},\n",
       " {'square': 81, 'cube': 729, 'root': 3.0}]"
      ]
     },
     "execution_count": 44,
     "metadata": {},
     "output_type": "execute_result"
    }
   ],
   "source": [
    "data = [{'square': i**2,'cube': i**3\n",
    "         ,'root': i**0.5} for i in range(10)] # tare2a mokhtalfa lktapt gdwal data frame \n",
    "data"
   ]
  },
  {
   "cell_type": "code",
   "execution_count": 46,
   "metadata": {},
   "outputs": [
    {
     "data": {
      "text/html": [
       "<div>\n",
       "<style scoped>\n",
       "    .dataframe tbody tr th:only-of-type {\n",
       "        vertical-align: middle;\n",
       "    }\n",
       "\n",
       "    .dataframe tbody tr th {\n",
       "        vertical-align: top;\n",
       "    }\n",
       "\n",
       "    .dataframe thead th {\n",
       "        text-align: right;\n",
       "    }\n",
       "</style>\n",
       "<table border=\"1\" class=\"dataframe\">\n",
       "  <thead>\n",
       "    <tr style=\"text-align: right;\">\n",
       "      <th></th>\n",
       "      <th>square</th>\n",
       "      <th>cube</th>\n",
       "      <th>root</th>\n",
       "    </tr>\n",
       "  </thead>\n",
       "  <tbody>\n",
       "    <tr>\n",
       "      <th>0</th>\n",
       "      <td>0</td>\n",
       "      <td>0</td>\n",
       "      <td>0.000000</td>\n",
       "    </tr>\n",
       "    <tr>\n",
       "      <th>1</th>\n",
       "      <td>1</td>\n",
       "      <td>1</td>\n",
       "      <td>1.000000</td>\n",
       "    </tr>\n",
       "    <tr>\n",
       "      <th>2</th>\n",
       "      <td>4</td>\n",
       "      <td>8</td>\n",
       "      <td>1.414214</td>\n",
       "    </tr>\n",
       "    <tr>\n",
       "      <th>3</th>\n",
       "      <td>9</td>\n",
       "      <td>27</td>\n",
       "      <td>1.732051</td>\n",
       "    </tr>\n",
       "    <tr>\n",
       "      <th>4</th>\n",
       "      <td>16</td>\n",
       "      <td>64</td>\n",
       "      <td>2.000000</td>\n",
       "    </tr>\n",
       "    <tr>\n",
       "      <th>5</th>\n",
       "      <td>25</td>\n",
       "      <td>125</td>\n",
       "      <td>2.236068</td>\n",
       "    </tr>\n",
       "    <tr>\n",
       "      <th>6</th>\n",
       "      <td>36</td>\n",
       "      <td>216</td>\n",
       "      <td>2.449490</td>\n",
       "    </tr>\n",
       "    <tr>\n",
       "      <th>7</th>\n",
       "      <td>49</td>\n",
       "      <td>343</td>\n",
       "      <td>2.645751</td>\n",
       "    </tr>\n",
       "    <tr>\n",
       "      <th>8</th>\n",
       "      <td>64</td>\n",
       "      <td>512</td>\n",
       "      <td>2.828427</td>\n",
       "    </tr>\n",
       "    <tr>\n",
       "      <th>9</th>\n",
       "      <td>81</td>\n",
       "      <td>729</td>\n",
       "      <td>3.000000</td>\n",
       "    </tr>\n",
       "  </tbody>\n",
       "</table>\n",
       "</div>"
      ],
      "text/plain": [
       "   square  cube      root\n",
       "0       0     0  0.000000\n",
       "1       1     1  1.000000\n",
       "2       4     8  1.414214\n",
       "3       9    27  1.732051\n",
       "4      16    64  2.000000\n",
       "5      25   125  2.236068\n",
       "6      36   216  2.449490\n",
       "7      49   343  2.645751\n",
       "8      64   512  2.828427\n",
       "9      81   729  3.000000"
      ]
     },
     "execution_count": 46,
     "metadata": {},
     "output_type": "execute_result"
    }
   ],
   "source": [
    "d = pd.DataFrame(data)\n",
    "d"
   ]
  },
  {
   "cell_type": "code",
   "execution_count": 47,
   "metadata": {},
   "outputs": [],
   "source": [
    "\n",
    "d = pd.DataFrame([{'a':1,'b':2},{'a':3,'b':4},{'a':5,'b':6}])\n",
    "d = pd.DataFrame([{'a':1,'b':2},{'b':3,'c':4},{'d':5,'e':6}])\n",
    "\n",
    "\n",
    "\n",
    "df1 = pd.DataFrame({'employee': ['Bob', 'Jake', 'Lisa', 'Sue'],\n",
    "                    'group': ['Accounting', 'Engineering',\n",
    "                              'Engineering', 'HR']})\n",
    "df2 = pd.DataFrame({'employee': ['Lisa', 'Bob', 'Jake', 'Sue'],\n",
    "                    'hire_date': [2004, 2008, 2012, 2014]})\n",
    "df3 = pd.DataFrame({'name': ['Bob', 'Jake', 'Lisa', 'Sue'],\n",
    "                    'salary': [70000, 80000, 120000, 90000]})"
   ]
  },
  {
   "cell_type": "code",
   "execution_count": 48,
   "metadata": {},
   "outputs": [
    {
     "data": {
      "text/html": [
       "<div>\n",
       "<style scoped>\n",
       "    .dataframe tbody tr th:only-of-type {\n",
       "        vertical-align: middle;\n",
       "    }\n",
       "\n",
       "    .dataframe tbody tr th {\n",
       "        vertical-align: top;\n",
       "    }\n",
       "\n",
       "    .dataframe thead th {\n",
       "        text-align: right;\n",
       "    }\n",
       "</style>\n",
       "<table border=\"1\" class=\"dataframe\">\n",
       "  <thead>\n",
       "    <tr style=\"text-align: right;\">\n",
       "      <th></th>\n",
       "      <th>employee</th>\n",
       "      <th>group</th>\n",
       "      <th>hire_date</th>\n",
       "    </tr>\n",
       "  </thead>\n",
       "  <tbody>\n",
       "    <tr>\n",
       "      <th>0</th>\n",
       "      <td>Bob</td>\n",
       "      <td>Accounting</td>\n",
       "      <td>2008</td>\n",
       "    </tr>\n",
       "    <tr>\n",
       "      <th>1</th>\n",
       "      <td>Jake</td>\n",
       "      <td>Engineering</td>\n",
       "      <td>2012</td>\n",
       "    </tr>\n",
       "    <tr>\n",
       "      <th>2</th>\n",
       "      <td>Lisa</td>\n",
       "      <td>Engineering</td>\n",
       "      <td>2004</td>\n",
       "    </tr>\n",
       "    <tr>\n",
       "      <th>3</th>\n",
       "      <td>Sue</td>\n",
       "      <td>HR</td>\n",
       "      <td>2014</td>\n",
       "    </tr>\n",
       "  </tbody>\n",
       "</table>\n",
       "</div>"
      ],
      "text/plain": [
       "  employee        group  hire_date\n",
       "0      Bob   Accounting       2008\n",
       "1     Jake  Engineering       2012\n",
       "2     Lisa  Engineering       2004\n",
       "3      Sue           HR       2014"
      ]
     },
     "execution_count": 48,
     "metadata": {},
     "output_type": "execute_result"
    }
   ],
   "source": [
    "df4 = pd.merge(df1, df2)\n",
    "df4"
   ]
  },
  {
   "cell_type": "code",
   "execution_count": 49,
   "metadata": {},
   "outputs": [
    {
     "name": "stdout",
     "output_type": "stream",
     "text": [
      "  employee        group  name  salary\n",
      "0      Bob   Accounting   Bob   70000\n",
      "1     Jake  Engineering  Jake   80000\n",
      "2     Lisa  Engineering  Lisa  120000\n",
      "3      Sue           HR   Sue   90000\n"
     ]
    }
   ],
   "source": [
    "\n",
    "print(pd.merge(df1, df3, left_on=\"employee\", right_on=\"name\")) \n",
    "# merge we ht7kem fe mkan kol gdwal"
   ]
  },
  {
   "cell_type": "code",
   "execution_count": 50,
   "metadata": {},
   "outputs": [
    {
     "data": {
      "text/html": [
       "<div>\n",
       "<style scoped>\n",
       "    .dataframe tbody tr th:only-of-type {\n",
       "        vertical-align: middle;\n",
       "    }\n",
       "\n",
       "    .dataframe tbody tr th {\n",
       "        vertical-align: top;\n",
       "    }\n",
       "\n",
       "    .dataframe thead th {\n",
       "        text-align: right;\n",
       "    }\n",
       "</style>\n",
       "<table border=\"1\" class=\"dataframe\">\n",
       "  <thead>\n",
       "    <tr style=\"text-align: right;\">\n",
       "      <th></th>\n",
       "      <th>employee</th>\n",
       "      <th>group</th>\n",
       "      <th>salary</th>\n",
       "    </tr>\n",
       "  </thead>\n",
       "  <tbody>\n",
       "    <tr>\n",
       "      <th>0</th>\n",
       "      <td>Bob</td>\n",
       "      <td>Accounting</td>\n",
       "      <td>70000</td>\n",
       "    </tr>\n",
       "    <tr>\n",
       "      <th>1</th>\n",
       "      <td>Jake</td>\n",
       "      <td>Engineering</td>\n",
       "      <td>80000</td>\n",
       "    </tr>\n",
       "    <tr>\n",
       "      <th>2</th>\n",
       "      <td>Lisa</td>\n",
       "      <td>Engineering</td>\n",
       "      <td>120000</td>\n",
       "    </tr>\n",
       "    <tr>\n",
       "      <th>3</th>\n",
       "      <td>Sue</td>\n",
       "      <td>HR</td>\n",
       "      <td>90000</td>\n",
       "    </tr>\n",
       "  </tbody>\n",
       "</table>\n",
       "</div>"
      ],
      "text/plain": [
       "  employee        group  salary\n",
       "0      Bob   Accounting   70000\n",
       "1     Jake  Engineering   80000\n",
       "2     Lisa  Engineering  120000\n",
       "3      Sue           HR   90000"
      ]
     },
     "execution_count": 50,
     "metadata": {},
     "output_type": "execute_result"
    }
   ],
   "source": [
    "pd.merge(df1, df3, left_on=\"employee\", right_on=\"name\").drop('name', axis=1) # marge bs hsel column mo3yen mn 3malyet el marge \n",
    "# axis=1 -> 3ashan yfham 2n da column\n",
    "\n"
   ]
  },
  {
   "cell_type": "code",
   "execution_count": 51,
   "metadata": {},
   "outputs": [],
   "source": [
    "df2 = df1.set_index('employee') # 3ashan 28er el key bta3 el data Frame\n",
    "\n",
    "\n",
    "df1 = pd.DataFrame({'name': ['Peter', 'Paul', 'Mary'],\n",
    "                    'food': ['fish', 'beans', 'bread']},\n",
    "                    columns=['name', 'food'])\n",
    "\n",
    "df2 = pd.DataFrame({'name': ['Mary', 'Joseph'],\n",
    "                    'drink': ['cola', '7 up']},\n",
    "                    columns=['name', 'drink'])\n",
    "df3 = pd.merge(df1, df2) # hna el values mokhtlefa fa  hy3mel marge we hy3rd el qyem el moshtrqa bs  \n",
    "df3 = pd.merge(df1, df2, how='outer') # hna hy3mel  marge lkolo mash el moshtrek bs \n",
    "df3 = pd.merge(df1, df2, how='right')\n",
    "df3 = pd.merge(df1, df2, how='left')"
   ]
  },
  {
   "cell_type": "code",
   "execution_count": 52,
   "metadata": {},
   "outputs": [
    {
     "data": {
      "text/html": [
       "<div>\n",
       "<style scoped>\n",
       "    .dataframe tbody tr th:only-of-type {\n",
       "        vertical-align: middle;\n",
       "    }\n",
       "\n",
       "    .dataframe tbody tr th {\n",
       "        vertical-align: top;\n",
       "    }\n",
       "\n",
       "    .dataframe thead th {\n",
       "        text-align: right;\n",
       "    }\n",
       "</style>\n",
       "<table border=\"1\" class=\"dataframe\">\n",
       "  <thead>\n",
       "    <tr style=\"text-align: right;\">\n",
       "      <th></th>\n",
       "      <th>key</th>\n",
       "      <th>data</th>\n",
       "    </tr>\n",
       "  </thead>\n",
       "  <tbody>\n",
       "    <tr>\n",
       "      <th>0</th>\n",
       "      <td>A</td>\n",
       "      <td>0</td>\n",
       "    </tr>\n",
       "    <tr>\n",
       "      <th>1</th>\n",
       "      <td>B</td>\n",
       "      <td>1</td>\n",
       "    </tr>\n",
       "    <tr>\n",
       "      <th>2</th>\n",
       "      <td>C</td>\n",
       "      <td>2</td>\n",
       "    </tr>\n",
       "    <tr>\n",
       "      <th>3</th>\n",
       "      <td>A</td>\n",
       "      <td>3</td>\n",
       "    </tr>\n",
       "    <tr>\n",
       "      <th>4</th>\n",
       "      <td>B</td>\n",
       "      <td>4</td>\n",
       "    </tr>\n",
       "    <tr>\n",
       "      <th>5</th>\n",
       "      <td>C</td>\n",
       "      <td>5</td>\n",
       "    </tr>\n",
       "  </tbody>\n",
       "</table>\n",
       "</div>"
      ],
      "text/plain": [
       "  key  data\n",
       "0   A     0\n",
       "1   B     1\n",
       "2   C     2\n",
       "3   A     3\n",
       "4   B     4\n",
       "5   C     5"
      ]
     },
     "execution_count": 52,
     "metadata": {},
     "output_type": "execute_result"
    }
   ],
   "source": [
    "df = pd.DataFrame({'key':['A','B','C','A','B','C'],\n",
    "                   'data': range(6)},columns=['key', 'data'])\n",
    "# df2 = df.groupby('key').aggregate({'data1': 'min','data2': 'max'}) # hygeb kol el rows el key bt3ha mslan A we htla3 elminmum value fehom \n",
    "# wlw el values motsawya yb2a hesht8l 3la el condation el tane ehe hwo man data2\n",
    "df"
   ]
  },
  {
   "cell_type": "code",
   "execution_count": 53,
   "metadata": {},
   "outputs": [],
   "source": [
    "df = pd.DataFrame({'key': ['A', 'B', 'C', 'A', 'B', 'C'],\n",
    "                   'data1': range(6),\n",
    "                   'data2': np.random.randint(0, 10, 6)},\n",
    "                    columns = ['key', 'data1', 'data2'])"
   ]
  },
  {
   "cell_type": "code",
   "execution_count": 54,
   "metadata": {},
   "outputs": [],
   "source": [
    "def filter_func(x):\n",
    "    return x['data2'].std() > 4\n",
    "\n",
    "df2 = df.groupby('key').filter(filter_func)"
   ]
  },
  {
   "cell_type": "code",
   "execution_count": 55,
   "metadata": {},
   "outputs": [
    {
     "data": {
      "text/html": [
       "<div>\n",
       "<style scoped>\n",
       "    .dataframe tbody tr th:only-of-type {\n",
       "        vertical-align: middle;\n",
       "    }\n",
       "\n",
       "    .dataframe tbody tr th {\n",
       "        vertical-align: top;\n",
       "    }\n",
       "\n",
       "    .dataframe thead th {\n",
       "        text-align: right;\n",
       "    }\n",
       "</style>\n",
       "<table border=\"1\" class=\"dataframe\">\n",
       "  <thead>\n",
       "    <tr style=\"text-align: right;\">\n",
       "      <th></th>\n",
       "      <th></th>\n",
       "      <th>income</th>\n",
       "      <th>profit</th>\n",
       "    </tr>\n",
       "  </thead>\n",
       "  <tbody>\n",
       "    <tr>\n",
       "      <th rowspan=\"2\" valign=\"top\">a</th>\n",
       "      <th>1</th>\n",
       "      <td>0.206900</td>\n",
       "      <td>0.108167</td>\n",
       "    </tr>\n",
       "    <tr>\n",
       "      <th>2</th>\n",
       "      <td>0.749073</td>\n",
       "      <td>0.816657</td>\n",
       "    </tr>\n",
       "    <tr>\n",
       "      <th rowspan=\"2\" valign=\"top\">b</th>\n",
       "      <th>1</th>\n",
       "      <td>0.210867</td>\n",
       "      <td>0.331386</td>\n",
       "    </tr>\n",
       "    <tr>\n",
       "      <th>2</th>\n",
       "      <td>0.792221</td>\n",
       "      <td>0.410758</td>\n",
       "    </tr>\n",
       "  </tbody>\n",
       "</table>\n",
       "</div>"
      ],
      "text/plain": [
       "       income    profit\n",
       "a 1  0.206900  0.108167\n",
       "  2  0.749073  0.816657\n",
       "b 1  0.210867  0.331386\n",
       "  2  0.792221  0.410758"
      ]
     },
     "execution_count": 55,
     "metadata": {},
     "output_type": "execute_result"
    }
   ],
   "source": [
    "df2 = df.groupby('key').transform(lambda x: x**2)\n",
    "\n",
    "\n",
    "df = pd.DataFrame(np.random.rand(4, 2),\n",
    "                  index=[['a', 'a', 'b', 'b'], #hna 2dtlo matrix goha 2 lists  3ashan y3mel multiindex\n",
    "                         [1, 2, 1, 2]],columns=['income', 'profit'])\n",
    "df"
   ]
  },
  {
   "cell_type": "code",
   "execution_count": 57,
   "metadata": {},
   "outputs": [
    {
     "data": {
      "text/html": [
       "<div>\n",
       "<style scoped>\n",
       "    .dataframe tbody tr th:only-of-type {\n",
       "        vertical-align: middle;\n",
       "    }\n",
       "\n",
       "    .dataframe tbody tr th {\n",
       "        vertical-align: top;\n",
       "    }\n",
       "\n",
       "    .dataframe thead th {\n",
       "        text-align: right;\n",
       "    }\n",
       "</style>\n",
       "<table border=\"1\" class=\"dataframe\">\n",
       "  <thead>\n",
       "    <tr style=\"text-align: right;\">\n",
       "      <th></th>\n",
       "      <th>Name</th>\n",
       "      <th>ID</th>\n",
       "      <th>Department</th>\n",
       "      <th>Salary</th>\n",
       "    </tr>\n",
       "  </thead>\n",
       "  <tbody>\n",
       "    <tr>\n",
       "      <th>0</th>\n",
       "      <td>Rose</td>\n",
       "      <td>1</td>\n",
       "      <td>Architect Group</td>\n",
       "      <td>100000</td>\n",
       "    </tr>\n",
       "    <tr>\n",
       "      <th>1</th>\n",
       "      <td>John</td>\n",
       "      <td>2</td>\n",
       "      <td>Software Group</td>\n",
       "      <td>80000</td>\n",
       "    </tr>\n",
       "    <tr>\n",
       "      <th>2</th>\n",
       "      <td>Jane</td>\n",
       "      <td>3</td>\n",
       "      <td>Design Team</td>\n",
       "      <td>50000</td>\n",
       "    </tr>\n",
       "    <tr>\n",
       "      <th>3</th>\n",
       "      <td>Mary</td>\n",
       "      <td>4</td>\n",
       "      <td>Infrastructure</td>\n",
       "      <td>60000</td>\n",
       "    </tr>\n",
       "  </tbody>\n",
       "</table>\n",
       "</div>"
      ],
      "text/plain": [
       "   Name  ID       Department  Salary\n",
       "0  Rose   1  Architect Group  100000\n",
       "1  John   2   Software Group   80000\n",
       "2  Jane   3      Design Team   50000\n",
       "3  Mary   4   Infrastructure   60000"
      ]
     },
     "execution_count": 57,
     "metadata": {},
     "output_type": "execute_result"
    }
   ],
   "source": [
    "\n",
    "x = {'Name': ['Rose','John', 'Jane', 'Mary'], 'ID': [1, 2, 3, 4], 'Department': ['Architect Group', 'Software Group', 'Design Team', 'Infrastructure'], \n",
    "      'Salary':[100000, 80000, 50000, 60000]}\n",
    "\n",
    "#casting the dictionary to a DataFrame\n",
    "df = pd.DataFrame(x)\n",
    "df"
   ]
  },
  {
   "cell_type": "code",
   "execution_count": 58,
   "metadata": {},
   "outputs": [
    {
     "name": "stdout",
     "output_type": "stream",
     "text": [
      "   ID\n",
      "0   1\n",
      "1   2\n",
      "2   3\n",
      "3   4\n"
     ]
    }
   ],
   "source": [
    "print(df[['ID']]) "
   ]
  },
  {
   "cell_type": "code",
   "execution_count": 59,
   "metadata": {},
   "outputs": [
    {
     "name": "stdout",
     "output_type": "stream",
     "text": [
      "1\n"
     ]
    }
   ],
   "source": [
    "# Access the column using the name\n",
    "print(df.loc[0, 'ID'])\n",
    "# 0 in the loc attribute refers to the first row of the DataFrame, \n",
    "# and the 'ID' refers to the name of the column."
   ]
  },
  {
   "cell_type": "code",
   "execution_count": 60,
   "metadata": {},
   "outputs": [
    {
     "name": "stdout",
     "output_type": "stream",
     "text": [
      "        Department  Salary  ID\n",
      "0  Architect Group  100000   1\n",
      "1   Software Group   80000   2\n",
      "2      Design Team   50000   3\n",
      "3   Infrastructure   60000   4\n"
     ]
    }
   ],
   "source": [
    "\n",
    "print(df[['Department','Salary','ID']])"
   ]
  },
  {
   "cell_type": "code",
   "execution_count": 61,
   "metadata": {},
   "outputs": [
    {
     "data": {
      "text/plain": [
       "'Architect Group'"
      ]
     },
     "execution_count": 61,
     "metadata": {},
     "output_type": "execute_result"
    }
   ],
   "source": [
    "# Access the value on the first row and the third column\n",
    "df.iloc[0,2]\n"
   ]
  },
  {
   "cell_type": "code",
   "execution_count": 62,
   "metadata": {},
   "outputs": [
    {
     "data": {
      "text/plain": [
       "100000"
      ]
     },
     "execution_count": 62,
     "metadata": {},
     "output_type": "execute_result"
    }
   ],
   "source": [
    "\n",
    "# Access the column using the name\n",
    "df.loc[0, 'Salary'] #first elemnt in salary column"
   ]
  },
  {
   "cell_type": "code",
   "execution_count": 65,
   "metadata": {},
   "outputs": [
    {
     "data": {
      "text/html": [
       "<div>\n",
       "<style scoped>\n",
       "    .dataframe tbody tr th:only-of-type {\n",
       "        vertical-align: middle;\n",
       "    }\n",
       "\n",
       "    .dataframe tbody tr th {\n",
       "        vertical-align: top;\n",
       "    }\n",
       "\n",
       "    .dataframe thead th {\n",
       "        text-align: right;\n",
       "    }\n",
       "</style>\n",
       "<table border=\"1\" class=\"dataframe\">\n",
       "  <thead>\n",
       "    <tr style=\"text-align: right;\">\n",
       "      <th></th>\n",
       "      <th>ID</th>\n",
       "      <th>Department</th>\n",
       "      <th>Salary</th>\n",
       "    </tr>\n",
       "    <tr>\n",
       "      <th>Name</th>\n",
       "      <th></th>\n",
       "      <th></th>\n",
       "      <th></th>\n",
       "    </tr>\n",
       "  </thead>\n",
       "  <tbody>\n",
       "    <tr>\n",
       "      <th>Rose</th>\n",
       "      <td>1</td>\n",
       "      <td>Architect Group</td>\n",
       "      <td>100000</td>\n",
       "    </tr>\n",
       "    <tr>\n",
       "      <th>John</th>\n",
       "      <td>2</td>\n",
       "      <td>Software Group</td>\n",
       "      <td>80000</td>\n",
       "    </tr>\n",
       "    <tr>\n",
       "      <th>Jane</th>\n",
       "      <td>3</td>\n",
       "      <td>Design Team</td>\n",
       "      <td>50000</td>\n",
       "    </tr>\n",
       "    <tr>\n",
       "      <th>Mary</th>\n",
       "      <td>4</td>\n",
       "      <td>Infrastructure</td>\n",
       "      <td>60000</td>\n",
       "    </tr>\n",
       "  </tbody>\n",
       "</table>\n",
       "</div>"
      ],
      "text/plain": [
       "      ID       Department  Salary\n",
       "Name                             \n",
       "Rose   1  Architect Group  100000\n",
       "John   2   Software Group   80000\n",
       "Jane   3      Design Team   50000\n",
       "Mary   4   Infrastructure   60000"
      ]
     },
     "execution_count": 65,
     "metadata": {},
     "output_type": "execute_result"
    }
   ],
   "source": [
    "df2=df\n",
    "df2=df2.set_index(\"Name\")\n",
    "df2"
   ]
  },
  {
   "cell_type": "code",
   "execution_count": 66,
   "metadata": {},
   "outputs": [
    {
     "data": {
      "text/html": [
       "<div>\n",
       "<style scoped>\n",
       "    .dataframe tbody tr th:only-of-type {\n",
       "        vertical-align: middle;\n",
       "    }\n",
       "\n",
       "    .dataframe tbody tr th {\n",
       "        vertical-align: top;\n",
       "    }\n",
       "\n",
       "    .dataframe thead th {\n",
       "        text-align: right;\n",
       "    }\n",
       "</style>\n",
       "<table border=\"1\" class=\"dataframe\">\n",
       "  <thead>\n",
       "    <tr style=\"text-align: right;\">\n",
       "      <th></th>\n",
       "      <th>ID</th>\n",
       "      <th>Department</th>\n",
       "      <th>Salary</th>\n",
       "    </tr>\n",
       "    <tr>\n",
       "      <th>Name</th>\n",
       "      <th></th>\n",
       "      <th></th>\n",
       "      <th></th>\n",
       "    </tr>\n",
       "  </thead>\n",
       "  <tbody>\n",
       "    <tr>\n",
       "      <th>Rose</th>\n",
       "      <td>1</td>\n",
       "      <td>Architect Group</td>\n",
       "      <td>100000</td>\n",
       "    </tr>\n",
       "    <tr>\n",
       "      <th>John</th>\n",
       "      <td>2</td>\n",
       "      <td>Software Group</td>\n",
       "      <td>80000</td>\n",
       "    </tr>\n",
       "    <tr>\n",
       "      <th>Jane</th>\n",
       "      <td>3</td>\n",
       "      <td>Design Team</td>\n",
       "      <td>50000</td>\n",
       "    </tr>\n",
       "    <tr>\n",
       "      <th>Mary</th>\n",
       "      <td>4</td>\n",
       "      <td>Infrastructure</td>\n",
       "      <td>60000</td>\n",
       "    </tr>\n",
       "  </tbody>\n",
       "</table>\n",
       "</div>"
      ],
      "text/plain": [
       "      ID       Department  Salary\n",
       "Name                             \n",
       "Rose   1  Architect Group  100000\n",
       "John   2   Software Group   80000\n",
       "Jane   3      Design Team   50000\n",
       "Mary   4   Infrastructure   60000"
      ]
     },
     "execution_count": 66,
     "metadata": {},
     "output_type": "execute_result"
    }
   ],
   "source": [
    "#To display the first 5 rows of new dataframe\n",
    "df2.head()"
   ]
  },
  {
   "cell_type": "code",
   "execution_count": 68,
   "metadata": {},
   "outputs": [
    {
     "data": {
      "text/html": [
       "<div>\n",
       "<style scoped>\n",
       "    .dataframe tbody tr th:only-of-type {\n",
       "        vertical-align: middle;\n",
       "    }\n",
       "\n",
       "    .dataframe tbody tr th {\n",
       "        vertical-align: top;\n",
       "    }\n",
       "\n",
       "    .dataframe thead th {\n",
       "        text-align: right;\n",
       "    }\n",
       "</style>\n",
       "<table border=\"1\" class=\"dataframe\">\n",
       "  <thead>\n",
       "    <tr style=\"text-align: right;\">\n",
       "      <th></th>\n",
       "      <th>Name</th>\n",
       "      <th>ID</th>\n",
       "      <th>Department</th>\n",
       "      <th>Salary</th>\n",
       "    </tr>\n",
       "  </thead>\n",
       "  <tbody>\n",
       "    <tr>\n",
       "      <th>0</th>\n",
       "      <td>Rose</td>\n",
       "      <td>1</td>\n",
       "      <td>Architect Group</td>\n",
       "      <td>100000</td>\n",
       "    </tr>\n",
       "    <tr>\n",
       "      <th>1</th>\n",
       "      <td>John</td>\n",
       "      <td>2</td>\n",
       "      <td>Software Group</td>\n",
       "      <td>80000</td>\n",
       "    </tr>\n",
       "    <tr>\n",
       "      <th>2</th>\n",
       "      <td>Jane</td>\n",
       "      <td>3</td>\n",
       "      <td>Design Team</td>\n",
       "      <td>50000</td>\n",
       "    </tr>\n",
       "    <tr>\n",
       "      <th>3</th>\n",
       "      <td>Mary</td>\n",
       "      <td>4</td>\n",
       "      <td>Infrastructure</td>\n",
       "      <td>60000</td>\n",
       "    </tr>\n",
       "    <tr>\n",
       "      <th>4</th>\n",
       "      <td>value1</td>\n",
       "      <td>value2</td>\n",
       "      <td>value3</td>\n",
       "      <td>...</td>\n",
       "    </tr>\n",
       "    <tr>\n",
       "      <th>5</th>\n",
       "      <td>value1</td>\n",
       "      <td>value2</td>\n",
       "      <td>value3</td>\n",
       "      <td>...</td>\n",
       "    </tr>\n",
       "  </tbody>\n",
       "</table>\n",
       "</div>"
      ],
      "text/plain": [
       "     Name      ID       Department  Salary\n",
       "0    Rose       1  Architect Group  100000\n",
       "1    John       2   Software Group   80000\n",
       "2    Jane       3      Design Team   50000\n",
       "3    Mary       4   Infrastructure   60000\n",
       "4  value1  value2           value3     ...\n",
       "5  value1  value2           value3     ..."
      ]
     },
     "execution_count": 68,
     "metadata": {},
     "output_type": "execute_result"
    }
   ],
   "source": [
    "# to add row \n",
    "df.loc[len(df)] = [\"value1\", \"value2\", \"value3\",\"...\"]\n",
    "df"
   ]
  },
  {
   "cell_type": "markdown",
   "metadata": {},
   "source": [
    "# Multiindex Tool"
   ]
  },
  {
   "cell_type": "code",
   "execution_count": 70,
   "metadata": {},
   "outputs": [],
   "source": [
    "index = [('California', 2000),('California', 2010),\n",
    "         ('New York', 2000),('New York', 2010),\n",
    "         ('Texas', 2000),('Texas', 2010),('Fexas', 2010)]\n",
    "\n",
    "populations = [10000,15000, 20000,25000, 30000,35000,400000]"
   ]
  },
  {
   "cell_type": "code",
   "execution_count": 71,
   "metadata": {},
   "outputs": [
    {
     "data": {
      "text/plain": [
       "MultiIndex([('California', 2000),\n",
       "            ('California', 2010),\n",
       "            (  'New York', 2000),\n",
       "            (  'New York', 2010),\n",
       "            (     'Texas', 2000),\n",
       "            (     'Texas', 2010),\n",
       "            (     'Fexas', 2010)],\n",
       "           )"
      ]
     },
     "execution_count": 71,
     "metadata": {},
     "output_type": "execute_result"
    }
   ],
   "source": [
    "index = pd.MultiIndex.from_tuples(index) #-->  convert list of tuble to multiindex 3ashan 22dar b3den 2stkh\n",
    "#--> 2stkhdmha fe 3mel 3D table  #-->  be3tbr in elemnt rkam 1 fe el tuple hwa el key \n",
    "index"
   ]
  },
  {
   "cell_type": "code",
   "execution_count": 72,
   "metadata": {},
   "outputs": [
    {
     "data": {
      "text/plain": [
       "California  2000     10000\n",
       "            2010     15000\n",
       "New York    2000     20000\n",
       "            2010     25000\n",
       "Texas       2000     30000\n",
       "            2010     35000\n",
       "Fexas       2010    400000\n",
       "dtype: int64"
      ]
     },
     "execution_count": 72,
     "metadata": {},
     "output_type": "execute_result"
    }
   ],
   "source": [
    "pop = pd.Series(populations, index=index) # h3mel talbe kol key fey lwo 2 index \n",
    "pop"
   ]
  },
  {
   "cell_type": "code",
   "execution_count": 74,
   "metadata": {},
   "outputs": [
    {
     "data": {
      "text/plain": [
       "California  2000     10000\n",
       "            2010     15000\n",
       "New York    2000     20000\n",
       "            2010     25000\n",
       "Texas       2000     30000\n",
       "            2010     35000\n",
       "Fexas       2010    400000\n",
       "dtype: int64"
      ]
     },
     "execution_count": 74,
     "metadata": {},
     "output_type": "execute_result"
    }
   ],
   "source": [
    "pop = pop.reindex(index) #This will return a new DataFrame  with the same data, but with the row labels changed\n",
    "pop\n",
    "#--> hna 2deto 6 tuple  we lift with 6 elemnt  frabt kol tuple be elemnt elmonazr lho   \n",
    "#--> we 3ashn kol key fe el tuples mogod marten fa bekhod m3a two elemnts \n",
    "\n",
    "# print(pop[:, 2010]) # hykod kol el rows bs fe el kol hykhod l7d 2010\n",
    "\n",
    "# print(pop.unstack()) # h3red el multiindex table l Data fram table \n"
   ]
  },
  {
   "cell_type": "code",
   "execution_count": 75,
   "metadata": {},
   "outputs": [],
   "source": [
    "\n",
    "pop_df = pd.DataFrame({'total': pop,# hna khleto yt3amel m3a pop 3la 2nha value we 2dtha name \n",
    "                       'under18':[9267089, 9284094,4687374, # hna kont bzo2 colmmn gded \n",
    "                                  4318033,5906301, 6879014 ,1000000]}) "
   ]
  },
  {
   "cell_type": "code",
   "execution_count": 76,
   "metadata": {},
   "outputs": [
    {
     "data": {
      "text/plain": [
       "California  2000    10000\n",
       "            2010    15000\n",
       "Texas       2000    20000\n",
       "            2010    25000\n",
       "New York    2000    30000\n",
       "            2010    35000\n",
       "dtype: int64"
      ]
     },
     "execution_count": 76,
     "metadata": {},
     "output_type": "execute_result"
    }
   ],
   "source": [
    "data = {('California', 2000): 10000,('California', 2010):15000, # hy3tper el tuple klo hwa el key \n",
    "        ('Texas', 2000): 20000,('Texas', 2010): 25000,\n",
    "        ('New York', 2000): 30000,('New York', 2010): 35000}\n",
    "df = pd.Series(data)\n",
    "df"
   ]
  },
  {
   "cell_type": "code",
   "execution_count": 77,
   "metadata": {},
   "outputs": [
    {
     "data": {
      "text/plain": [
       "a    3\n",
       "b    3\n",
       "dtype: int64"
      ]
     },
     "execution_count": 77,
     "metadata": {},
     "output_type": "execute_result"
    }
   ],
   "source": [
    "\n",
    "data ={'a':1,'a':2,'b':3,'a':3}\n",
    "df = pd.Series(data)\n",
    "df"
   ]
  },
  {
   "cell_type": "code",
   "execution_count": 78,
   "metadata": {},
   "outputs": [],
   "source": [
    "index = pd.MultiIndex.from_product([[2013, 2014],[1, 2]],\n",
    "                                   names=['year', 'visit']) # hnna he3mel sfen 2sasen [2013,2014] with name year kol sf fehom goaa\n",
    "# sfen tanen [1 , 2] with name year  visit"
   ]
  },
  {
   "cell_type": "code",
   "execution_count": 79,
   "metadata": {},
   "outputs": [],
   "source": [
    "\n",
    "columns = pd.MultiIndex.from_product([['Bob', 'Guido', 'Sue'], #hna nfs ek fkra b3mel column gwa column tanya\n",
    "                                      ['HR', 'Temp']],\n",
    "                                    names=['subject', 'type'])\n",
    "data = np.round(np.random.randn(4, 6))\n",
    "health_data = pd.DataFrame(data, index=index, columns=columns)"
   ]
  },
  {
   "cell_type": "code",
   "execution_count": 82,
   "metadata": {},
   "outputs": [
    {
     "name": "stdout",
     "output_type": "stream",
     "text": [
      "subject     Bob      Guido       Sue     \n",
      "type         HR Temp    HR Temp   HR Temp\n",
      "year visit                               \n",
      "2013 1      2.0  3.0   1.0  1.0 -1.0  1.0\n",
      "     2     -0.0 -0.0  -1.0  0.0  1.0 -1.0\n",
      "2014 1      1.0 -1.0   0.0  1.0  2.0  1.0\n",
      "     2      2.0 -0.0  -2.0  2.0  1.0 -0.0 \n",
      "\n",
      "year  visit\n",
      "2013  1        1.0\n",
      "      2       -1.0\n",
      "2014  1        0.0\n",
      "      2       -2.0\n",
      "Name: (Guido, HR), dtype: float64 \n",
      "\n",
      "2.0 \n",
      "\n",
      "year  visit\n",
      "2013  1        2.0\n",
      "      2       -0.0\n",
      "2014  1        1.0\n",
      "      2        2.0\n",
      "Name: (Bob, HR), dtype: float64\n"
     ]
    }
   ],
   "source": [
    "print(health_data,'\\n')\n",
    "print(health_data['Guido', 'HR'],'\\n')\n",
    "print( health_data.loc[ (2013,1) , ('Bob', 'HR') ] ,'\\n')\n",
    "print( health_data.loc[ : , ('Bob', 'HR') ] )\n"
   ]
  },
  {
   "cell_type": "markdown",
   "metadata": {},
   "source": [
    "# String"
   ]
  },
  {
   "cell_type": "code",
   "execution_count": 83,
   "metadata": {},
   "outputs": [],
   "source": [
    "\n",
    "# pd.Series(data).str. # --> de el se8a 3shan 2stkhden el function ele tb3 elstring mn pandas \n",
    "\n",
    "data = ['peter', 'Paul', 'MARY', '15' ,'15.4', '  ' ]"
   ]
  },
  {
   "cell_type": "code",
   "execution_count": 84,
   "metadata": {},
   "outputs": [
    {
     "data": {
      "text/plain": [
       "0    5\n",
       "1    4\n",
       "2    4\n",
       "3    2\n",
       "4    4\n",
       "5    2\n",
       "dtype: int64"
      ]
     },
     "execution_count": 84,
     "metadata": {},
     "output_type": "execute_result"
    }
   ],
   "source": [
    "pd.Series(data).str.len() # --> length"
   ]
  },
  {
   "cell_type": "code",
   "execution_count": 85,
   "metadata": {},
   "outputs": [
    {
     "data": {
      "text/plain": [
       "0    False\n",
       "1    False\n",
       "2     True\n",
       "3    False\n",
       "4    False\n",
       "5    False\n",
       "dtype: bool"
      ]
     },
     "execution_count": 85,
     "metadata": {},
     "output_type": "execute_result"
    }
   ],
   "source": [
    "\n",
    "pd.Series(data).str.startswith('p') # --> beshof kol string fe el list kolha is it start with \"p\"\n",
    "pd.Series(data).str.endswith('Y')  # --> does is end with \"r\""
   ]
  },
  {
   "cell_type": "code",
   "execution_count": 86,
   "metadata": {},
   "outputs": [
    {
     "data": {
      "text/plain": [
       "0   -1\n",
       "1   -1\n",
       "2    1\n",
       "3   -1\n",
       "4   -1\n",
       "5   -1\n",
       "dtype: int64"
      ]
     },
     "execution_count": 86,
     "metadata": {},
     "output_type": "execute_result"
    }
   ],
   "source": [
    "pd.Series(data).str.find('t') # --> find this letter in each elemnt in list \n",
    "pd.Series(data).str.rfind('A') # --> find it from right in each elemnt in list"
   ]
  },
  {
   "cell_type": "code",
   "execution_count": 87,
   "metadata": {},
   "outputs": [
    {
     "data": {
      "text/plain": [
       "0      peter   \n",
       "1       Paul   \n",
       "2       MARY   \n",
       "3        15    \n",
       "4       15.4   \n",
       "5              \n",
       "dtype: object"
      ]
     },
     "execution_count": 87,
     "metadata": {},
     "output_type": "execute_result"
    }
   ],
   "source": [
    "pd.Series(data).str.rjust(20) # --> be3mel msafat gnb elkalma from right\n",
    "pd.Series(data).str.ljust(50) # --> be3mel msafat gnb elkalma from from left\n",
    "pd.Series(data).str.center(10) # make it center ze el brnmeg el word kda "
   ]
  },
  {
   "cell_type": "code",
   "execution_count": 88,
   "metadata": {},
   "outputs": [
    {
     "data": {
      "text/plain": [
       "0    peter\n",
       "1    0Paul\n",
       "2    0MARY\n",
       "3    00015\n",
       "4    015.4\n",
       "5    000  \n",
       "dtype: object"
      ]
     },
     "execution_count": 88,
     "metadata": {},
     "output_type": "execute_result"
    }
   ],
   "source": [
    "pd.Series(data).str.zfill(5) # bekmel el string be zeros l7d ma rl lenght bta3o yb2a 5"
   ]
  },
  {
   "cell_type": "code",
   "execution_count": 89,
   "metadata": {},
   "outputs": [
    {
     "data": {
      "text/plain": [
       "0    PETER\n",
       "1     pAUL\n",
       "2     mary\n",
       "3       15\n",
       "4     15.4\n",
       "5         \n",
       "dtype: object"
      ]
     },
     "execution_count": 89,
     "metadata": {},
     "output_type": "execute_result"
    }
   ],
   "source": [
    "\n",
    "\n",
    "pd.Series(data).str.isupper() # is it all calpital\n",
    "pd.Series(data).str.islower() # is it lower ? \n",
    "pd.Series(data).str.istitle() #  hal 2wel 7rf capital we el ba2e smoll wla l2\n",
    "pd.Series(data).str.isspace() # is it all spaces ? \n",
    "pd.Series(data).str.isdigit() # is it numbers ?\n",
    "pd.Series(data).str.isalpha() # is it all letters ?\n",
    "pd.Series(data).str.isalnum() # is it not got any spaces ? \n",
    "pd.Series(data).str.isdecimal() # is it decimals ? \n",
    "pd.Series(data).str.isnumeric() # is it number\n",
    "pd.Series(data).str.upper() # make it capital\n",
    "pd.Series(data).str.capitalize() # make it like 'This'\n",
    "pd.Series(data).str.lower() # make it lower\n",
    "pd.Series(data).str.swapcase() # switch capital & small"
   ]
  },
  {
   "cell_type": "markdown",
   "metadata": {},
   "source": [
    "# Date"
   ]
  },
  {
   "cell_type": "code",
   "execution_count": 91,
   "metadata": {},
   "outputs": [
    {
     "data": {
      "text/plain": [
       "(Timestamp('2018-07-04 00:00:00'),\n",
       " '\\n',\n",
       " DatetimeIndex(['2018-07-04', '2018-07-05', '2018-07-06', '2018-07-07',\n",
       "                '2018-07-08', '2018-07-09', '2018-07-10', '2018-07-11',\n",
       "                '2018-07-12', '2018-07-13', '2018-07-14', '2018-07-15',\n",
       "                '2018-07-16', '2018-07-17', '2018-07-18', '2018-07-19',\n",
       "                '2018-07-20', '2018-07-21', '2018-07-22', '2018-07-23'],\n",
       "               dtype='datetime64[ns]', freq=None),\n",
       " '\\n',\n",
       " DatetimeIndex(['2018-07-04', '2018-07-03', '2018-07-02', '2018-07-01',\n",
       "                '2018-06-30', '2018-06-29', '2018-06-28', '2018-06-27',\n",
       "                '2018-06-26', '2018-06-25', '2018-06-24', '2018-06-23',\n",
       "                '2018-06-22', '2018-06-21', '2018-06-20', '2018-06-19',\n",
       "                '2018-06-18', '2018-06-17', '2018-06-16', '2018-06-15'],\n",
       "               dtype='datetime64[ns]', freq=None))"
      ]
     },
     "execution_count": 91,
     "metadata": {},
     "output_type": "execute_result"
    }
   ],
   "source": [
    "\n",
    "x = pd.to_datetime(\"4th of July, 2018\")\n",
    "y = x + pd.to_timedelta(np.arange(20),'D') # add Days\n",
    "z = x - pd.to_timedelta(np.arange(20),'D') # tr7 2yam \n",
    "x,'\\n',y,'\\n',z"
   ]
  },
  {
   "cell_type": "code",
   "execution_count": 92,
   "metadata": {},
   "outputs": [
    {
     "data": {
      "text/plain": [
       "DatetimeIndex(['2014-07-04', '2014-08-04', '2015-07-04', '2015-08-04'], dtype='datetime64[ns]', freq=None)"
      ]
     },
     "execution_count": 92,
     "metadata": {},
     "output_type": "execute_result"
    }
   ],
   "source": [
    "index = pd.DatetimeIndex(['2014-07-04', '2014-08-04','2015-07-04','2015-08-04'])\n",
    "index"
   ]
  },
  {
   "cell_type": "code",
   "execution_count": 93,
   "metadata": {},
   "outputs": [
    {
     "data": {
      "text/plain": [
       "2014-07-04    0\n",
       "2014-08-04    1\n",
       "2015-07-04    2\n",
       "2015-08-04    3\n",
       "dtype: int64"
      ]
     },
     "execution_count": 93,
     "metadata": {},
     "output_type": "execute_result"
    }
   ],
   "source": [
    "data = pd.Series([0, 1, 2, 3], index=index)\n",
    "data"
   ]
  },
  {
   "cell_type": "code",
   "execution_count": 95,
   "metadata": {},
   "outputs": [
    {
     "name": "stdout",
     "output_type": "stream",
     "text": [
      "2014-07-04    0\n",
      "2014-08-04    1\n",
      "2015-07-04    2\n",
      "2015-08-04    3\n",
      "dtype: int64 \n",
      "\n",
      "2014-07-04    0\n",
      "2014-08-04    1\n",
      "dtype: int64 \n",
      "\n",
      "2014-07-04    0\n",
      "2014-08-04    1\n",
      "dtype: int64 \n",
      "\n",
      "2014-08-04    1\n",
      "dtype: int64\n"
     ]
    }
   ],
   "source": [
    "print(data,'\\n')\n",
    "print(data['2011-01-01':'2014-12-31'],'\\n')\n",
    "print(data['2014'],'\\n')\n",
    "print(data['2014-08'])"
   ]
  },
  {
   "cell_type": "code",
   "execution_count": 96,
   "metadata": {},
   "outputs": [
    {
     "data": {
      "text/plain": [
       "DatetimeIndex(['2011-12-25', '2011-12-26', '2011-12-27', '2011-12-28',\n",
       "               '2011-12-29', '2011-12-30', '2011-12-31', '2012-01-01',\n",
       "               '2012-01-02', '2012-01-03', '2012-01-04', '2012-01-05',\n",
       "               '2012-01-06', '2012-01-07', '2012-01-08'],\n",
       "              dtype='datetime64[ns]', freq='D')"
      ]
     },
     "execution_count": 96,
     "metadata": {},
     "output_type": "execute_result"
    }
   ],
   "source": [
    "data = pd.date_range('2011-12-25', '2012-01-08') # hy3mel series mn yom kza l kza\n",
    "data"
   ]
  },
  {
   "cell_type": "code",
   "execution_count": 97,
   "metadata": {},
   "outputs": [
    {
     "data": {
      "text/plain": [
       "DatetimeIndex(['2011-12-25', '2011-12-26', '2011-12-27', '2011-12-28',\n",
       "               '2011-12-29', '2011-12-30', '2011-12-31', '2012-01-01'],\n",
       "              dtype='datetime64[ns]', freq='D')"
      ]
     },
     "execution_count": 97,
     "metadata": {},
     "output_type": "execute_result"
    }
   ],
   "source": [
    "data = pd.date_range('2011-12-25', periods=8) # hy3mel series mn yom kza l b3do be 8 2yam \n",
    "data"
   ]
  },
  {
   "cell_type": "code",
   "execution_count": 98,
   "metadata": {},
   "outputs": [
    {
     "data": {
      "text/plain": [
       "DatetimeIndex(['2011-12-25 00:00:00', '2011-12-25 01:00:00',\n",
       "               '2011-12-25 02:00:00', '2011-12-25 03:00:00',\n",
       "               '2011-12-25 04:00:00', '2011-12-25 05:00:00',\n",
       "               '2011-12-25 06:00:00', '2011-12-25 07:00:00'],\n",
       "              dtype='datetime64[ns]', freq='H')"
      ]
     },
     "execution_count": 98,
     "metadata": {},
     "output_type": "execute_result"
    }
   ],
   "source": [
    "data = pd.date_range('2011-12-25', periods=8, freq='H') # hy3mel series mn yom kza l b3do be 8 sa3at\n",
    "data"
   ]
  },
  {
   "cell_type": "code",
   "execution_count": 99,
   "metadata": {},
   "outputs": [
    {
     "data": {
      "text/plain": [
       "TimedeltaIndex(['0 days 00:00:00', '0 days 01:00:00', '0 days 02:00:00',\n",
       "                '0 days 03:00:00', '0 days 04:00:00', '0 days 05:00:00',\n",
       "                '0 days 06:00:00', '0 days 07:00:00', '0 days 08:00:00',\n",
       "                '0 days 09:00:00'],\n",
       "               dtype='timedelta64[ns]', freq='H')"
      ]
     },
     "execution_count": 99,
     "metadata": {},
     "output_type": "execute_result"
    }
   ],
   "source": [
    "\n",
    "data = pd.timedelta_range(0, periods=10, freq='H')\n",
    "data"
   ]
  },
  {
   "cell_type": "code",
   "execution_count": 100,
   "metadata": {},
   "outputs": [
    {
     "data": {
      "text/plain": [
       "TimedeltaIndex(['0 days 00:00:00', '0 days 02:30:40', '0 days 05:01:20',\n",
       "                '0 days 07:32:00', '0 days 10:02:40', '0 days 12:33:20',\n",
       "                '0 days 15:04:00', '0 days 17:34:40', '0 days 20:05:20'],\n",
       "               dtype='timedelta64[ns]', freq='9040S')"
      ]
     },
     "execution_count": 100,
     "metadata": {},
     "output_type": "execute_result"
    }
   ],
   "source": [
    "data = pd.timedelta_range(0, periods=9, freq=\"2H30T40S\") # hyzob sa3tem we 30 muinnt we 40 sanya \n",
    "data"
   ]
  },
  {
   "cell_type": "markdown",
   "metadata": {},
   "source": [
    "# CSV files"
   ]
  },
  {
   "cell_type": "code",
   "execution_count": 101,
   "metadata": {},
   "outputs": [],
   "source": [
    "df = pd.read_csv(r\"G:\\BRMAGA\\maachine larning\\ML\\Regression\\1.TXT\")\n"
   ]
  },
  {
   "cell_type": "code",
   "execution_count": 102,
   "metadata": {},
   "outputs": [
    {
     "data": {
      "text/html": [
       "<div>\n",
       "<style scoped>\n",
       "    .dataframe tbody tr th:only-of-type {\n",
       "        vertical-align: middle;\n",
       "    }\n",
       "\n",
       "    .dataframe tbody tr th {\n",
       "        vertical-align: top;\n",
       "    }\n",
       "\n",
       "    .dataframe thead th {\n",
       "        text-align: right;\n",
       "    }\n",
       "</style>\n",
       "<table border=\"1\" class=\"dataframe\">\n",
       "  <thead>\n",
       "    <tr style=\"text-align: right;\">\n",
       "      <th></th>\n",
       "      <th>6.1101</th>\n",
       "      <th>17.592</th>\n",
       "    </tr>\n",
       "  </thead>\n",
       "  <tbody>\n",
       "    <tr>\n",
       "      <th>0</th>\n",
       "      <td>5.5277</td>\n",
       "      <td>9.13020</td>\n",
       "    </tr>\n",
       "    <tr>\n",
       "      <th>1</th>\n",
       "      <td>8.5186</td>\n",
       "      <td>13.66200</td>\n",
       "    </tr>\n",
       "    <tr>\n",
       "      <th>2</th>\n",
       "      <td>7.0032</td>\n",
       "      <td>11.85400</td>\n",
       "    </tr>\n",
       "    <tr>\n",
       "      <th>3</th>\n",
       "      <td>5.8598</td>\n",
       "      <td>6.82330</td>\n",
       "    </tr>\n",
       "    <tr>\n",
       "      <th>4</th>\n",
       "      <td>8.3829</td>\n",
       "      <td>11.88600</td>\n",
       "    </tr>\n",
       "    <tr>\n",
       "      <th>...</th>\n",
       "      <td>...</td>\n",
       "      <td>...</td>\n",
       "    </tr>\n",
       "    <tr>\n",
       "      <th>91</th>\n",
       "      <td>5.8707</td>\n",
       "      <td>7.20290</td>\n",
       "    </tr>\n",
       "    <tr>\n",
       "      <th>92</th>\n",
       "      <td>5.3054</td>\n",
       "      <td>1.98690</td>\n",
       "    </tr>\n",
       "    <tr>\n",
       "      <th>93</th>\n",
       "      <td>8.2934</td>\n",
       "      <td>0.14454</td>\n",
       "    </tr>\n",
       "    <tr>\n",
       "      <th>94</th>\n",
       "      <td>13.3940</td>\n",
       "      <td>9.05510</td>\n",
       "    </tr>\n",
       "    <tr>\n",
       "      <th>95</th>\n",
       "      <td>5.4369</td>\n",
       "      <td>0.61705</td>\n",
       "    </tr>\n",
       "  </tbody>\n",
       "</table>\n",
       "<p>96 rows × 2 columns</p>\n",
       "</div>"
      ],
      "text/plain": [
       "     6.1101    17.592\n",
       "0    5.5277   9.13020\n",
       "1    8.5186  13.66200\n",
       "2    7.0032  11.85400\n",
       "3    5.8598   6.82330\n",
       "4    8.3829  11.88600\n",
       "..      ...       ...\n",
       "91   5.8707   7.20290\n",
       "92   5.3054   1.98690\n",
       "93   8.2934   0.14454\n",
       "94  13.3940   9.05510\n",
       "95   5.4369   0.61705\n",
       "\n",
       "[96 rows x 2 columns]"
      ]
     },
     "execution_count": 102,
     "metadata": {},
     "output_type": "execute_result"
    }
   ],
   "source": [
    "df"
   ]
  },
  {
   "cell_type": "code",
   "execution_count": 103,
   "metadata": {},
   "outputs": [
    {
     "name": "stdout",
     "output_type": "stream",
     "text": [
      "     6.1101    17.592\n",
      "0    5.5277   9.13020\n",
      "1    8.5186  13.66200\n",
      "2    7.0032  11.85400\n",
      "3    5.8598   6.82330\n",
      "4    8.3829  11.88600\n",
      "5    7.4764   4.34830\n",
      "6    8.5781  12.00000\n",
      "7    6.4862   6.59870\n",
      "8    5.0546   3.81660\n",
      "9    5.7107   3.25220\n",
      "10  14.1640  15.50500\n",
      "11   5.7340   3.15510\n",
      "12   8.4084   7.22580\n",
      "13   5.6407   0.71618\n",
      "14   5.3794   3.51290\n",
      "15   6.3654   5.30480\n",
      "16   5.1301   0.56077\n",
      "17   6.4296   3.65180\n",
      "18   7.0708   5.38930\n",
      "19   6.1891   3.13860\n"
     ]
    }
   ],
   "source": [
    "print(df.head(20)) # kda b2olo 2tp3 2wel 20 row bas "
   ]
  },
  {
   "cell_type": "code",
   "execution_count": null,
   "metadata": {},
   "outputs": [],
   "source": [
    "data=pd.read_csv(r\"G:\\BRMAGA\\maachine larning\\ML\\Regression\\1.TXT\", index_col='column_name') # hbd2 el tba3a be col mo7dd"
   ]
  },
  {
   "cell_type": "code",
   "execution_count": null,
   "metadata": {},
   "outputs": [],
   "source": [
    "w = pd.Series({'a':1 ,'b':2 ,'c':3 ,'d':4 ,'e':5})\n",
    "x = pd.Series({'a':6 ,'b':7 ,'c':8 ,'d':9 ,'e':10})\n",
    "y = pd.Series({'a':11 ,'b':12 ,'c':13 ,'d':14 ,'e':15})\n",
    "z = pd.Series({'a':16 ,'b':17 ,'c':18 ,'d':19 ,'e':20})\n",
    "grades = pd.DataFrame({'Math':w,'Physics':x,'French':y,'Chemistry':z})\n",
    "grades.to_csv('F:\\\\2.csv') #save data frame as csv file\n",
    "grades.to_excel('F:\\\\1.xls',sheet_name ='Sheet 1') #save data frame as excel file"
   ]
  },
  {
   "cell_type": "code",
   "execution_count": null,
   "metadata": {},
   "outputs": [],
   "source": [
    "filename = 'D:\\\\2.csv'\n",
    "names = ['a', 'b', 'c', 'd', 'e'] \n",
    "data = pd.read_csv(filename, names=names) # b3d ma ygeb el data hy8er 2same el column ll2same ele b3thalo fe el name "
   ]
  },
  {
   "cell_type": "code",
   "execution_count": null,
   "metadata": {},
   "outputs": [],
   "source": [
    "filename = \"D:\\\\pima-indians-diabetes.csv\"\n",
    "names = ['preg', 'plas', 'pres', 'skin', 'test', 'mass', 'pedi', 'age', 'class']"
   ]
  },
  {
   "cell_type": "code",
   "execution_count": null,
   "metadata": {},
   "outputs": [],
   "source": [
    "data = pd.read_csv(filename, names=names)\n",
    "pd.set_option('display.width', 100) # y3ne khle 3rd el shasha\n",
    "pd.set_option('precision', 3) # lw fe rkam 3ashre kper hatle mno 2wel 3 decimal bs \n",
    "description = data.describe()\n",
    "correlations = data.corr(method='pearson') # mo3amel el2rtbat \n",
    "skew = data.skew() #el2n7raf"
   ]
  },
  {
   "cell_type": "code",
   "execution_count": null,
   "metadata": {},
   "outputs": [],
   "source": [
    "class_counts = data.groupby('class').size()"
   ]
  },
  {
   "cell_type": "code",
   "execution_count": 107,
   "metadata": {},
   "outputs": [
    {
     "data": {
      "text/html": [
       "<div>\n",
       "<style scoped>\n",
       "    .dataframe tbody tr th:only-of-type {\n",
       "        vertical-align: middle;\n",
       "    }\n",
       "\n",
       "    .dataframe tbody tr th {\n",
       "        vertical-align: top;\n",
       "    }\n",
       "\n",
       "    .dataframe thead th {\n",
       "        text-align: right;\n",
       "    }\n",
       "</style>\n",
       "<table border=\"1\" class=\"dataframe\">\n",
       "  <thead>\n",
       "    <tr style=\"text-align: right;\">\n",
       "      <th></th>\n",
       "      <th>Artist</th>\n",
       "      <th>Album</th>\n",
       "      <th>Released</th>\n",
       "      <th>Length</th>\n",
       "      <th>Genre</th>\n",
       "      <th>Music Recording Sales (millions)</th>\n",
       "      <th>Claimed Sales (millions)</th>\n",
       "      <th>Released.1</th>\n",
       "      <th>Soundtrack</th>\n",
       "      <th>Rating</th>\n",
       "    </tr>\n",
       "  </thead>\n",
       "  <tbody>\n",
       "    <tr>\n",
       "      <th>0</th>\n",
       "      <td>Michael Jackson</td>\n",
       "      <td>Thriller</td>\n",
       "      <td>1982</td>\n",
       "      <td>0:42:19</td>\n",
       "      <td>pop, rock, R&amp;B</td>\n",
       "      <td>46.0</td>\n",
       "      <td>65</td>\n",
       "      <td>30-Nov-82</td>\n",
       "      <td>NaN</td>\n",
       "      <td>10.0</td>\n",
       "    </tr>\n",
       "    <tr>\n",
       "      <th>1</th>\n",
       "      <td>AC/DC</td>\n",
       "      <td>Back in Black</td>\n",
       "      <td>1980</td>\n",
       "      <td>0:42:11</td>\n",
       "      <td>hard rock</td>\n",
       "      <td>26.1</td>\n",
       "      <td>50</td>\n",
       "      <td>25-Jul-80</td>\n",
       "      <td>NaN</td>\n",
       "      <td>9.5</td>\n",
       "    </tr>\n",
       "    <tr>\n",
       "      <th>2</th>\n",
       "      <td>Pink Floyd</td>\n",
       "      <td>The Dark Side of the Moon</td>\n",
       "      <td>1973</td>\n",
       "      <td>0:42:49</td>\n",
       "      <td>progressive rock</td>\n",
       "      <td>24.2</td>\n",
       "      <td>45</td>\n",
       "      <td>01-Mar-73</td>\n",
       "      <td>NaN</td>\n",
       "      <td>9.0</td>\n",
       "    </tr>\n",
       "    <tr>\n",
       "      <th>3</th>\n",
       "      <td>Whitney Houston</td>\n",
       "      <td>The Bodyguard</td>\n",
       "      <td>1992</td>\n",
       "      <td>0:57:44</td>\n",
       "      <td>R&amp;B, soul, pop</td>\n",
       "      <td>27.4</td>\n",
       "      <td>44</td>\n",
       "      <td>17-Nov-92</td>\n",
       "      <td>Y</td>\n",
       "      <td>8.5</td>\n",
       "    </tr>\n",
       "    <tr>\n",
       "      <th>4</th>\n",
       "      <td>Meat Loaf</td>\n",
       "      <td>Bat Out of Hell</td>\n",
       "      <td>1977</td>\n",
       "      <td>0:46:33</td>\n",
       "      <td>hard rock, progressive rock</td>\n",
       "      <td>20.6</td>\n",
       "      <td>43</td>\n",
       "      <td>21-Oct-77</td>\n",
       "      <td>NaN</td>\n",
       "      <td>8.0</td>\n",
       "    </tr>\n",
       "    <tr>\n",
       "      <th>5</th>\n",
       "      <td>Eagles</td>\n",
       "      <td>Their Greatest Hits (1971-1975)</td>\n",
       "      <td>1976</td>\n",
       "      <td>0:43:08</td>\n",
       "      <td>rock, soft rock, folk rock</td>\n",
       "      <td>32.2</td>\n",
       "      <td>42</td>\n",
       "      <td>17-Feb-76</td>\n",
       "      <td>NaN</td>\n",
       "      <td>7.5</td>\n",
       "    </tr>\n",
       "    <tr>\n",
       "      <th>6</th>\n",
       "      <td>Bee Gees</td>\n",
       "      <td>Saturday Night Fever</td>\n",
       "      <td>1977</td>\n",
       "      <td>1:15:54</td>\n",
       "      <td>disco</td>\n",
       "      <td>20.6</td>\n",
       "      <td>40</td>\n",
       "      <td>15-Nov-77</td>\n",
       "      <td>Y</td>\n",
       "      <td>7.0</td>\n",
       "    </tr>\n",
       "    <tr>\n",
       "      <th>7</th>\n",
       "      <td>Fleetwood Mac</td>\n",
       "      <td>Rumours</td>\n",
       "      <td>1977</td>\n",
       "      <td>0:40:01</td>\n",
       "      <td>soft rock</td>\n",
       "      <td>27.9</td>\n",
       "      <td>40</td>\n",
       "      <td>04-Feb-77</td>\n",
       "      <td>NaN</td>\n",
       "      <td>6.5</td>\n",
       "    </tr>\n",
       "  </tbody>\n",
       "</table>\n",
       "</div>"
      ],
      "text/plain": [
       "            Artist                            Album  Released   Length  \\\n",
       "0  Michael Jackson                         Thriller      1982  0:42:19   \n",
       "1            AC/DC                    Back in Black      1980  0:42:11   \n",
       "2       Pink Floyd        The Dark Side of the Moon      1973  0:42:49   \n",
       "3  Whitney Houston                    The Bodyguard      1992  0:57:44   \n",
       "4        Meat Loaf                  Bat Out of Hell      1977  0:46:33   \n",
       "5           Eagles  Their Greatest Hits (1971-1975)      1976  0:43:08   \n",
       "6         Bee Gees             Saturday Night Fever      1977  1:15:54   \n",
       "7    Fleetwood Mac                          Rumours      1977  0:40:01   \n",
       "\n",
       "                         Genre  Music Recording Sales (millions)  \\\n",
       "0               pop, rock, R&B                              46.0   \n",
       "1                    hard rock                              26.1   \n",
       "2             progressive rock                              24.2   \n",
       "3               R&B, soul, pop                              27.4   \n",
       "4  hard rock, progressive rock                              20.6   \n",
       "5   rock, soft rock, folk rock                              32.2   \n",
       "6                        disco                              20.6   \n",
       "7                    soft rock                              27.9   \n",
       "\n",
       "   Claimed Sales (millions) Released.1 Soundtrack  Rating  \n",
       "0                        65  30-Nov-82        NaN    10.0  \n",
       "1                        50  25-Jul-80        NaN     9.5  \n",
       "2                        45  01-Mar-73        NaN     9.0  \n",
       "3                        44  17-Nov-92          Y     8.5  \n",
       "4                        43  21-Oct-77        NaN     8.0  \n",
       "5                        42  17-Feb-76        NaN     7.5  \n",
       "6                        40  15-Nov-77          Y     7.0  \n",
       "7                        40  04-Feb-77        NaN     6.5  "
      ]
     },
     "execution_count": 107,
     "metadata": {},
     "output_type": "execute_result"
    }
   ],
   "source": [
    "csv_path = 'https://cf-courses-data.s3.us.cloud-object-storage.appdomain.cloud/IBMDeveloperSkillsNetwork-PY0101EN-SkillsNetwork/labs/Module%204/data/TopSellingAlbums.csv'\n",
    "df = pd.read_csv(csv_path)\n",
    "df"
   ]
  },
  {
   "cell_type": "markdown",
   "metadata": {},
   "source": [
    "# Excel files"
   ]
  },
  {
   "cell_type": "code",
   "execution_count": null,
   "metadata": {},
   "outputs": [],
   "source": [
    "\n",
    "xlsx_path = r'F:\\Book2.xlsx'\n",
    "\n",
    "df = pd.read_excel(xlsx_path)\n",
    "print(df)\n",
    "df.head()"
   ]
  }
 ],
 "metadata": {
  "kernelspec": {
   "display_name": "Python 3",
   "language": "python",
   "name": "python3"
  },
  "language_info": {
   "codemirror_mode": {
    "name": "ipython",
    "version": 3
   },
   "file_extension": ".py",
   "mimetype": "text/x-python",
   "name": "python",
   "nbconvert_exporter": "python",
   "pygments_lexer": "ipython3",
   "version": "3.11.4"
  },
  "orig_nbformat": 4
 },
 "nbformat": 4,
 "nbformat_minor": 2
}
